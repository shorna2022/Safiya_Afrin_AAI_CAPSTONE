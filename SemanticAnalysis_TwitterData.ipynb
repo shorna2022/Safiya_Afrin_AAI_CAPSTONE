{
 "cells": [
  {
   "cell_type": "markdown",
   "metadata": {
    "id": "u05DcjuW4L4e"
   },
   "source": [
    "# Install required libraries"
   ]
  },
  {
   "cell_type": "code",
   "execution_count": 1,
   "metadata": {},
   "outputs": [],
   "source": [
    "#%pip install tensorflow\n",
    "#%pip install spacy\n",
    "#%pip install tweetnlp\n",
    "#%pip install matplotlib\n",
    "#%pip install seaborn"
   ]
  },
  {
   "cell_type": "code",
   "execution_count": null,
   "metadata": {
    "id": "ZRp-u3wSl6bc"
   },
   "outputs": [],
   "source": [
    "!python -m spacy download en_core_web_lg"
   ]
  },
  {
   "cell_type": "markdown",
   "metadata": {},
   "source": [
    "# Introduction\n",
    "\n",
    "Understanding customer feedback has become pivotal for driving strategic decisions and enhancing customer satisfaction. With the advent of digital platforms, customers frequently express their opinions and experiences online, creating a wealth of data that businesses can leverage to improve their services and products. \n",
    "\n",
    "This project focuses on harnessing the power of Natural Language Processing (NLP), a subset of artificial intelligence, to develop a sentiment analysis system that categorizes this feedback.\n",
    "\n",
    "Sentiment analysis, a critical aspect of NLP, involves interpreting and classifying emotions in textual data. Our system is designed to analyze customer feedback and classify it into three distinct sentiment categories: negative, positive, and neutral. By doing so, it provides a nuanced understanding of customer perceptions and experiences. \n",
    "\n",
    "Negative feedback highlights areas needing improvement, positive feedback affirms what the business is doing well, and neutral feedback offers a balanced view that is neither explicitly positive nor negative."
   ]
  },
  {
   "cell_type": "markdown",
   "metadata": {},
   "source": [
    "Data: https://www.kaggle.com/datasets/jp797498e/twitter-entity-sentiment-analysis\n",
    "- twitter_training.csv\n",
    "- twitter_validation.csv"
   ]
  },
  {
   "cell_type": "markdown",
   "metadata": {
    "id": "t5_WXgz84S_a"
   },
   "source": [
    "# Import required libraries"
   ]
  },
  {
   "cell_type": "code",
   "execution_count": 3,
   "metadata": {
    "id": "NfLkDBDDJ4gZ"
   },
   "outputs": [
    {
     "name": "stdout",
     "output_type": "stream",
     "text": [
      "WARNING:tensorflow:From c:\\API Projects\\NLP\\.venv\\lib\\site-packages\\keras\\src\\losses.py:2976: The name tf.losses.sparse_softmax_cross_entropy is deprecated. Please use tf.compat.v1.losses.sparse_softmax_cross_entropy instead.\n",
      "\n"
     ]
    }
   ],
   "source": [
    "import pandas as pd\n",
    "import spacy\n",
    "import re\n",
    "import numpy as np\n",
    "from tensorflow.keras.preprocessing.text import Tokenizer\n",
    "from tensorflow.keras.preprocessing.sequence import pad_sequences\n",
    "from tensorflow.keras.models import Sequential\n",
    "from tensorflow.keras.layers import Dense, Embedding, LSTM, SpatialDropout1D,Embedding, Dropout, BatchNormalization\n",
    "import matplotlib.pyplot as plt\n",
    "import seaborn as sns\n",
    "from sklearn.model_selection import train_test_split\n",
    "from tensorflow.keras import metrics\n",
    "from tensorflow.keras.callbacks import EarlyStopping, ReduceLROnPlateau\n",
    "from sklearn.metrics import confusion_matrix\n",
    "import tweetnlp\n",
    "from joblib import dump, load\n",
    "\n",
    "import torch\n",
    "from torch import nn\n",
    "from torch.utils.data import Dataset, DataLoader\n",
    "from transformers import BertTokenizer, BertModel\n",
    "from transformers import AdamW, get_linear_schedule_with_warmup\n",
    "from sklearn.metrics import accuracy_score, precision_recall_fscore_support\n"
   ]
  },
  {
   "cell_type": "code",
   "execution_count": 4,
   "metadata": {},
   "outputs": [
    {
     "name": "stdout",
     "output_type": "stream",
     "text": [
      "Is_GPU_available: True\n",
      "GPU Information: NVIDIA GeForce RTX 3090 Ti\n"
     ]
    }
   ],
   "source": [
    "print('Is_GPU_available: ' + str(torch.cuda.is_available()))\n",
    "if torch.cuda.is_available() == True:\n",
    "    print('GPU Information: ' + torch.cuda.get_device_name(0))"
   ]
  },
  {
   "cell_type": "code",
   "execution_count": 5,
   "metadata": {},
   "outputs": [],
   "source": [
    "device = torch.device(\"cuda\" if torch.cuda.is_available() else \"cpu\")"
   ]
  },
  {
   "cell_type": "markdown",
   "metadata": {
    "id": "WZZzN5WqP_az"
   },
   "source": [
    "## Data Preparation\n",
    "\n",
    "The first part of this project is about starting off with the basics. We first load our data, making sure it's ready for use. Then, we take a quick look at it to understand what's there - checking out what kind of information we have, spotting any obvious patterns or odd things. This step helps us get ready for the more detailed work that comes next."
   ]
  },
  {
   "cell_type": "code",
   "execution_count": 6,
   "metadata": {
    "id": "1CbyKntLJ4gc"
   },
   "outputs": [],
   "source": [
    "train_path = 'data\\\\twitter_training.csv'\n",
    "val_path = 'data\\\\twitter_validation.csv'"
   ]
  },
  {
   "cell_type": "code",
   "execution_count": 7,
   "metadata": {
    "id": "fXHGQexgQwsq"
   },
   "outputs": [],
   "source": [
    "df_train = pd.read_csv(train_path)\n",
    "df_val = pd.read_csv(val_path)"
   ]
  },
  {
   "cell_type": "code",
   "execution_count": 8,
   "metadata": {
    "colab": {
     "base_uri": "https://localhost:8080/"
    },
    "id": "7dLQ6BblQlCn",
    "outputId": "ede3e449-98d5-4370-9327-1b50b6c16196"
   },
   "outputs": [
    {
     "name": "stdout",
     "output_type": "stream",
     "text": [
      "<class 'pandas.core.frame.DataFrame'>\n",
      "RangeIndex: 74681 entries, 0 to 74680\n",
      "Data columns (total 4 columns):\n",
      " #   Column                                                 Non-Null Count  Dtype \n",
      "---  ------                                                 --------------  ----- \n",
      " 0   2401                                                   74681 non-null  int64 \n",
      " 1   Borderlands                                            74681 non-null  object\n",
      " 2   Positive                                               74681 non-null  object\n",
      " 3   im getting on borderlands and i will murder you all ,  73995 non-null  object\n",
      "dtypes: int64(1), object(3)\n",
      "memory usage: 2.3+ MB\n"
     ]
    }
   ],
   "source": [
    "df_train.info()"
   ]
  },
  {
   "cell_type": "code",
   "execution_count": 9,
   "metadata": {
    "colab": {
     "base_uri": "https://localhost:8080/"
    },
    "id": "r7wZ1rvrQnu4",
    "outputId": "28a0bc05-5074-44d1-df01-748146c69a86"
   },
   "outputs": [
    {
     "name": "stdout",
     "output_type": "stream",
     "text": [
      "<class 'pandas.core.frame.DataFrame'>\n",
      "RangeIndex: 999 entries, 0 to 998\n",
      "Data columns (total 4 columns):\n",
      " #   Column                                                                                                                                                                                                                                              Non-Null Count  Dtype \n",
      "---  ------                                                                                                                                                                                                                                              --------------  ----- \n",
      " 0   3364                                                                                                                                                                                                                                                999 non-null    int64 \n",
      " 1   Facebook                                                                                                                                                                                                                                            999 non-null    object\n",
      " 2   Irrelevant                                                                                                                                                                                                                                          999 non-null    object\n",
      " 3   I mentioned on Facebook that I was struggling for motivation to go for a run the other day, which has been translated by Tom’s great auntie as ‘Hayley can’t get out of bed’ and told to his grandma, who now thinks I’m a lazy, terrible person 🤣  999 non-null    object\n",
      "dtypes: int64(1), object(3)\n",
      "memory usage: 31.3+ KB\n"
     ]
    }
   ],
   "source": [
    "df_val.info()"
   ]
  },
  {
   "cell_type": "markdown",
   "metadata": {
    "id": "l9zlyk55TsgQ"
   },
   "source": [
    "Right now, the dataset doesn't have any column names. To make it easier to understand and work with, we're going to add names to each column. This will help us know what each part of the data is about and make analyzing the data simpler."
   ]
  },
  {
   "cell_type": "code",
   "execution_count": 10,
   "metadata": {
    "id": "SBqiGktoTyAz"
   },
   "outputs": [],
   "source": [
    "columns = ['textID','location', 'sentiment', 'text' ]"
   ]
  },
  {
   "cell_type": "code",
   "execution_count": 11,
   "metadata": {
    "id": "Q7Uc7aQ3T3TU"
   },
   "outputs": [],
   "source": [
    "df_train.columns = columns\n",
    "df_val.columns = columns"
   ]
  },
  {
   "cell_type": "code",
   "execution_count": 12,
   "metadata": {
    "colab": {
     "base_uri": "https://localhost:8080/"
    },
    "id": "lKdsuZ_CqWGC",
    "outputId": "33e2dd2d-3869-483e-a43c-d61cc023cd84"
   },
   "outputs": [
    {
     "name": "stdout",
     "output_type": "stream",
     "text": [
      "<class 'pandas.core.frame.DataFrame'>\n",
      "RangeIndex: 74681 entries, 0 to 74680\n",
      "Data columns (total 4 columns):\n",
      " #   Column     Non-Null Count  Dtype \n",
      "---  ------     --------------  ----- \n",
      " 0   textID     74681 non-null  int64 \n",
      " 1   location   74681 non-null  object\n",
      " 2   sentiment  74681 non-null  object\n",
      " 3   text       73995 non-null  object\n",
      "dtypes: int64(1), object(3)\n",
      "memory usage: 2.3+ MB\n"
     ]
    }
   ],
   "source": [
    "df_train.info()"
   ]
  },
  {
   "cell_type": "code",
   "execution_count": 13,
   "metadata": {
    "colab": {
     "base_uri": "https://localhost:8080/",
     "height": 0
    },
    "id": "ZpP1TOzGJ4gd",
    "outputId": "2c7de98b-d5f4-483b-d66a-6918843a08ad"
   },
   "outputs": [
    {
     "data": {
      "text/html": [
       "<div>\n",
       "<style scoped>\n",
       "    .dataframe tbody tr th:only-of-type {\n",
       "        vertical-align: middle;\n",
       "    }\n",
       "\n",
       "    .dataframe tbody tr th {\n",
       "        vertical-align: top;\n",
       "    }\n",
       "\n",
       "    .dataframe thead th {\n",
       "        text-align: right;\n",
       "    }\n",
       "</style>\n",
       "<table border=\"1\" class=\"dataframe\">\n",
       "  <thead>\n",
       "    <tr style=\"text-align: right;\">\n",
       "      <th></th>\n",
       "      <th>textID</th>\n",
       "      <th>location</th>\n",
       "      <th>sentiment</th>\n",
       "      <th>text</th>\n",
       "    </tr>\n",
       "  </thead>\n",
       "  <tbody>\n",
       "    <tr>\n",
       "      <th>0</th>\n",
       "      <td>2401</td>\n",
       "      <td>Borderlands</td>\n",
       "      <td>Positive</td>\n",
       "      <td>I am coming to the borders and I will kill you...</td>\n",
       "    </tr>\n",
       "    <tr>\n",
       "      <th>1</th>\n",
       "      <td>2401</td>\n",
       "      <td>Borderlands</td>\n",
       "      <td>Positive</td>\n",
       "      <td>im getting on borderlands and i will kill you ...</td>\n",
       "    </tr>\n",
       "    <tr>\n",
       "      <th>2</th>\n",
       "      <td>2401</td>\n",
       "      <td>Borderlands</td>\n",
       "      <td>Positive</td>\n",
       "      <td>im coming on borderlands and i will murder you...</td>\n",
       "    </tr>\n",
       "    <tr>\n",
       "      <th>3</th>\n",
       "      <td>2401</td>\n",
       "      <td>Borderlands</td>\n",
       "      <td>Positive</td>\n",
       "      <td>im getting on borderlands 2 and i will murder ...</td>\n",
       "    </tr>\n",
       "    <tr>\n",
       "      <th>4</th>\n",
       "      <td>2401</td>\n",
       "      <td>Borderlands</td>\n",
       "      <td>Positive</td>\n",
       "      <td>im getting into borderlands and i can murder y...</td>\n",
       "    </tr>\n",
       "  </tbody>\n",
       "</table>\n",
       "</div>"
      ],
      "text/plain": [
       "   textID     location sentiment  \\\n",
       "0    2401  Borderlands  Positive   \n",
       "1    2401  Borderlands  Positive   \n",
       "2    2401  Borderlands  Positive   \n",
       "3    2401  Borderlands  Positive   \n",
       "4    2401  Borderlands  Positive   \n",
       "\n",
       "                                                text  \n",
       "0  I am coming to the borders and I will kill you...  \n",
       "1  im getting on borderlands and i will kill you ...  \n",
       "2  im coming on borderlands and i will murder you...  \n",
       "3  im getting on borderlands 2 and i will murder ...  \n",
       "4  im getting into borderlands and i can murder y...  "
      ]
     },
     "execution_count": 13,
     "metadata": {},
     "output_type": "execute_result"
    }
   ],
   "source": [
    "df_train.head()"
   ]
  },
  {
   "cell_type": "code",
   "execution_count": 14,
   "metadata": {
    "colab": {
     "base_uri": "https://localhost:8080/",
     "height": 0
    },
    "id": "GbAIE3z2J4gf",
    "outputId": "89f17e31-d059-4bcc-a9b4-8edce59d5050"
   },
   "outputs": [
    {
     "data": {
      "text/html": [
       "<div>\n",
       "<style scoped>\n",
       "    .dataframe tbody tr th:only-of-type {\n",
       "        vertical-align: middle;\n",
       "    }\n",
       "\n",
       "    .dataframe tbody tr th {\n",
       "        vertical-align: top;\n",
       "    }\n",
       "\n",
       "    .dataframe thead th {\n",
       "        text-align: right;\n",
       "    }\n",
       "</style>\n",
       "<table border=\"1\" class=\"dataframe\">\n",
       "  <thead>\n",
       "    <tr style=\"text-align: right;\">\n",
       "      <th></th>\n",
       "      <th>textID</th>\n",
       "      <th>location</th>\n",
       "      <th>sentiment</th>\n",
       "      <th>text</th>\n",
       "    </tr>\n",
       "  </thead>\n",
       "  <tbody>\n",
       "    <tr>\n",
       "      <th>0</th>\n",
       "      <td>352</td>\n",
       "      <td>Amazon</td>\n",
       "      <td>Neutral</td>\n",
       "      <td>BBC News - Amazon boss Jeff Bezos rejects clai...</td>\n",
       "    </tr>\n",
       "    <tr>\n",
       "      <th>1</th>\n",
       "      <td>8312</td>\n",
       "      <td>Microsoft</td>\n",
       "      <td>Negative</td>\n",
       "      <td>@Microsoft Why do I pay for WORD when it funct...</td>\n",
       "    </tr>\n",
       "    <tr>\n",
       "      <th>2</th>\n",
       "      <td>4371</td>\n",
       "      <td>CS-GO</td>\n",
       "      <td>Negative</td>\n",
       "      <td>CSGO matchmaking is so full of closet hacking,...</td>\n",
       "    </tr>\n",
       "    <tr>\n",
       "      <th>3</th>\n",
       "      <td>4433</td>\n",
       "      <td>Google</td>\n",
       "      <td>Neutral</td>\n",
       "      <td>Now the President is slapping Americans in the...</td>\n",
       "    </tr>\n",
       "    <tr>\n",
       "      <th>4</th>\n",
       "      <td>6273</td>\n",
       "      <td>FIFA</td>\n",
       "      <td>Negative</td>\n",
       "      <td>Hi @EAHelp I’ve had Madeleine McCann in my cel...</td>\n",
       "    </tr>\n",
       "  </tbody>\n",
       "</table>\n",
       "</div>"
      ],
      "text/plain": [
       "   textID   location sentiment  \\\n",
       "0     352     Amazon   Neutral   \n",
       "1    8312  Microsoft  Negative   \n",
       "2    4371      CS-GO  Negative   \n",
       "3    4433     Google   Neutral   \n",
       "4    6273       FIFA  Negative   \n",
       "\n",
       "                                                text  \n",
       "0  BBC News - Amazon boss Jeff Bezos rejects clai...  \n",
       "1  @Microsoft Why do I pay for WORD when it funct...  \n",
       "2  CSGO matchmaking is so full of closet hacking,...  \n",
       "3  Now the President is slapping Americans in the...  \n",
       "4  Hi @EAHelp I’ve had Madeleine McCann in my cel...  "
      ]
     },
     "execution_count": 14,
     "metadata": {},
     "output_type": "execute_result"
    }
   ],
   "source": [
    "df_val.head()"
   ]
  },
  {
   "cell_type": "markdown",
   "metadata": {
    "id": "A0_Nm-sAUBK0"
   },
   "source": [
    "Moving forward, we will remove any entries from our dataset that contain null values in either the 'Text' or 'Sentiment' columns."
   ]
  },
  {
   "cell_type": "code",
   "execution_count": 15,
   "metadata": {
    "id": "t1ARO4-UJ4gh"
   },
   "outputs": [],
   "source": [
    "def remove_null_texts(df,col):\n",
    "    \"\"\"\n",
    "    Remove rows where the 'text' column is null.\n",
    "    \"\"\"\n",
    "    # Displaying the number of null values in the 'text' column\n",
    "    null_texts_count = df[col].isnull().sum()\n",
    "    print(f\"Number of null values in the {col} column: {null_texts_count}\")\n",
    "\n",
    "    # Dropping rows where the 'text' column is null\n",
    "    df_cleaned = df.dropna(subset=[col])\n",
    "\n",
    "    # Displaying the number of rows removed\n",
    "    print(f\"Number of rows removed: {null_texts_count}\")\n",
    "\n",
    "    return df_cleaned"
   ]
  },
  {
   "cell_type": "code",
   "execution_count": 16,
   "metadata": {
    "colab": {
     "base_uri": "https://localhost:8080/"
    },
    "id": "pH2mMK4ZJ4gi",
    "outputId": "ee9ff123-2484-4655-a7c6-5af0a3ed9067"
   },
   "outputs": [
    {
     "name": "stdout",
     "output_type": "stream",
     "text": [
      "Number of null values in the text column: 686\n",
      "Number of rows removed: 686\n",
      "Number of null values in the sentiment column: 0\n",
      "Number of rows removed: 0\n"
     ]
    }
   ],
   "source": [
    "df_train = remove_null_texts(df_train,'text')\n",
    "df_train = remove_null_texts(df_train,'sentiment')"
   ]
  },
  {
   "cell_type": "code",
   "execution_count": 17,
   "metadata": {
    "colab": {
     "base_uri": "https://localhost:8080/"
    },
    "id": "__sZauLHJ4gi",
    "outputId": "6bfa6199-a350-42b8-c758-6c47c5ee4af2"
   },
   "outputs": [
    {
     "name": "stdout",
     "output_type": "stream",
     "text": [
      "Number of null values in the text column: 0\n",
      "Number of rows removed: 0\n",
      "Number of null values in the sentiment column: 0\n",
      "Number of rows removed: 0\n"
     ]
    }
   ],
   "source": [
    "df_val = remove_null_texts(df_val,'text')\n",
    "df_val = remove_null_texts(df_val,'sentiment')"
   ]
  },
  {
   "cell_type": "code",
   "execution_count": 18,
   "metadata": {
    "colab": {
     "base_uri": "https://localhost:8080/"
    },
    "id": "3ywFt7U_J4gj",
    "outputId": "501ff87e-df93-490d-adad-2315f56b1e93"
   },
   "outputs": [
    {
     "name": "stdout",
     "output_type": "stream",
     "text": [
      "df_train Shape (73995, 4)\n",
      "df_val Shape (999, 4)\n"
     ]
    }
   ],
   "source": [
    "print('df_train Shape',df_train.shape)\n",
    "print('df_val Shape',df_val.shape)"
   ]
  },
  {
   "cell_type": "markdown",
   "metadata": {
    "id": "BbREy_iKUlpY"
   },
   "source": [
    "Next, we are going to streamlin the dataset to concentrate on key information. Specifically, we will retain only the **text** and **sentiment** columns. These two columns are important for our analysis needs. The **text** column provides the actual content we want to examine, while the **sentiment** column offers valuable insights into the emotional tone of each text entry."
   ]
  },
  {
   "cell_type": "code",
   "execution_count": 19,
   "metadata": {
    "id": "pAC_mXv2J4gj"
   },
   "outputs": [],
   "source": [
    "df_train_small = df_train[['text','sentiment']]\n",
    "df_val_small = df_val[['text','sentiment']]"
   ]
  },
  {
   "cell_type": "code",
   "execution_count": 20,
   "metadata": {
    "colab": {
     "base_uri": "https://localhost:8080/",
     "height": 0
    },
    "id": "Bo0WqXkHJ4gj",
    "outputId": "8bdb21e6-5891-4e84-da03-98d01cd6eca5"
   },
   "outputs": [
    {
     "data": {
      "text/html": [
       "<div>\n",
       "<style scoped>\n",
       "    .dataframe tbody tr th:only-of-type {\n",
       "        vertical-align: middle;\n",
       "    }\n",
       "\n",
       "    .dataframe tbody tr th {\n",
       "        vertical-align: top;\n",
       "    }\n",
       "\n",
       "    .dataframe thead th {\n",
       "        text-align: right;\n",
       "    }\n",
       "</style>\n",
       "<table border=\"1\" class=\"dataframe\">\n",
       "  <thead>\n",
       "    <tr style=\"text-align: right;\">\n",
       "      <th></th>\n",
       "      <th>text</th>\n",
       "      <th>sentiment</th>\n",
       "    </tr>\n",
       "  </thead>\n",
       "  <tbody>\n",
       "    <tr>\n",
       "      <th>0</th>\n",
       "      <td>I am coming to the borders and I will kill you...</td>\n",
       "      <td>Positive</td>\n",
       "    </tr>\n",
       "    <tr>\n",
       "      <th>1</th>\n",
       "      <td>im getting on borderlands and i will kill you ...</td>\n",
       "      <td>Positive</td>\n",
       "    </tr>\n",
       "    <tr>\n",
       "      <th>2</th>\n",
       "      <td>im coming on borderlands and i will murder you...</td>\n",
       "      <td>Positive</td>\n",
       "    </tr>\n",
       "    <tr>\n",
       "      <th>3</th>\n",
       "      <td>im getting on borderlands 2 and i will murder ...</td>\n",
       "      <td>Positive</td>\n",
       "    </tr>\n",
       "    <tr>\n",
       "      <th>4</th>\n",
       "      <td>im getting into borderlands and i can murder y...</td>\n",
       "      <td>Positive</td>\n",
       "    </tr>\n",
       "  </tbody>\n",
       "</table>\n",
       "</div>"
      ],
      "text/plain": [
       "                                                text sentiment\n",
       "0  I am coming to the borders and I will kill you...  Positive\n",
       "1  im getting on borderlands and i will kill you ...  Positive\n",
       "2  im coming on borderlands and i will murder you...  Positive\n",
       "3  im getting on borderlands 2 and i will murder ...  Positive\n",
       "4  im getting into borderlands and i can murder y...  Positive"
      ]
     },
     "execution_count": 20,
     "metadata": {},
     "output_type": "execute_result"
    }
   ],
   "source": [
    "df_train_small.head()"
   ]
  },
  {
   "cell_type": "code",
   "execution_count": 21,
   "metadata": {
    "colab": {
     "base_uri": "https://localhost:8080/",
     "height": 0
    },
    "id": "SbXWBS7QJ4gk",
    "outputId": "d62a8ad1-5a17-49cb-a395-0ffbbd74d5bf"
   },
   "outputs": [
    {
     "data": {
      "text/html": [
       "<div>\n",
       "<style scoped>\n",
       "    .dataframe tbody tr th:only-of-type {\n",
       "        vertical-align: middle;\n",
       "    }\n",
       "\n",
       "    .dataframe tbody tr th {\n",
       "        vertical-align: top;\n",
       "    }\n",
       "\n",
       "    .dataframe thead th {\n",
       "        text-align: right;\n",
       "    }\n",
       "</style>\n",
       "<table border=\"1\" class=\"dataframe\">\n",
       "  <thead>\n",
       "    <tr style=\"text-align: right;\">\n",
       "      <th></th>\n",
       "      <th>text</th>\n",
       "      <th>sentiment</th>\n",
       "    </tr>\n",
       "  </thead>\n",
       "  <tbody>\n",
       "    <tr>\n",
       "      <th>0</th>\n",
       "      <td>BBC News - Amazon boss Jeff Bezos rejects clai...</td>\n",
       "      <td>Neutral</td>\n",
       "    </tr>\n",
       "    <tr>\n",
       "      <th>1</th>\n",
       "      <td>@Microsoft Why do I pay for WORD when it funct...</td>\n",
       "      <td>Negative</td>\n",
       "    </tr>\n",
       "    <tr>\n",
       "      <th>2</th>\n",
       "      <td>CSGO matchmaking is so full of closet hacking,...</td>\n",
       "      <td>Negative</td>\n",
       "    </tr>\n",
       "    <tr>\n",
       "      <th>3</th>\n",
       "      <td>Now the President is slapping Americans in the...</td>\n",
       "      <td>Neutral</td>\n",
       "    </tr>\n",
       "    <tr>\n",
       "      <th>4</th>\n",
       "      <td>Hi @EAHelp I’ve had Madeleine McCann in my cel...</td>\n",
       "      <td>Negative</td>\n",
       "    </tr>\n",
       "  </tbody>\n",
       "</table>\n",
       "</div>"
      ],
      "text/plain": [
       "                                                text sentiment\n",
       "0  BBC News - Amazon boss Jeff Bezos rejects clai...   Neutral\n",
       "1  @Microsoft Why do I pay for WORD when it funct...  Negative\n",
       "2  CSGO matchmaking is so full of closet hacking,...  Negative\n",
       "3  Now the President is slapping Americans in the...   Neutral\n",
       "4  Hi @EAHelp I’ve had Madeleine McCann in my cel...  Negative"
      ]
     },
     "execution_count": 21,
     "metadata": {},
     "output_type": "execute_result"
    }
   ],
   "source": [
    "df_val_small.head()"
   ]
  },
  {
   "cell_type": "markdown",
   "metadata": {
    "id": "vOCVSBE4V0rQ"
   },
   "source": [
    "We will merge these datasets for combined processing."
   ]
  },
  {
   "cell_type": "code",
   "execution_count": 22,
   "metadata": {
    "id": "sTBT-TCzJ4gk"
   },
   "outputs": [],
   "source": [
    "train_index = 'train'\n",
    "validation_index = 'validation'\n",
    "df = pd.concat([df_train_small.assign(ind=train_index),df_val_small.assign(ind=validation_index)])"
   ]
  },
  {
   "cell_type": "code",
   "execution_count": 23,
   "metadata": {},
   "outputs": [],
   "source": [
    "df['text'] = df['text'].str.lower()"
   ]
  },
  {
   "cell_type": "code",
   "execution_count": 24,
   "metadata": {
    "colab": {
     "base_uri": "https://localhost:8080/"
    },
    "id": "eJ_t1Tk9J4gl",
    "outputId": "22a7e230-01f2-425c-80d9-1ff53366f88d"
   },
   "outputs": [
    {
     "data": {
      "text/plain": [
       "(74994, 3)"
      ]
     },
     "execution_count": 24,
     "metadata": {},
     "output_type": "execute_result"
    }
   ],
   "source": [
    "df.shape"
   ]
  },
  {
   "cell_type": "code",
   "execution_count": 25,
   "metadata": {
    "colab": {
     "base_uri": "https://localhost:8080/",
     "height": 0
    },
    "id": "-gUqQxeMJ4gl",
    "outputId": "68392233-ab09-46a1-df64-c1ec8ee52f68"
   },
   "outputs": [
    {
     "data": {
      "text/html": [
       "<div>\n",
       "<style scoped>\n",
       "    .dataframe tbody tr th:only-of-type {\n",
       "        vertical-align: middle;\n",
       "    }\n",
       "\n",
       "    .dataframe tbody tr th {\n",
       "        vertical-align: top;\n",
       "    }\n",
       "\n",
       "    .dataframe thead th {\n",
       "        text-align: right;\n",
       "    }\n",
       "</style>\n",
       "<table border=\"1\" class=\"dataframe\">\n",
       "  <thead>\n",
       "    <tr style=\"text-align: right;\">\n",
       "      <th></th>\n",
       "      <th>text</th>\n",
       "      <th>sentiment</th>\n",
       "      <th>ind</th>\n",
       "    </tr>\n",
       "  </thead>\n",
       "  <tbody>\n",
       "    <tr>\n",
       "      <th>0</th>\n",
       "      <td>i am coming to the borders and i will kill you...</td>\n",
       "      <td>Positive</td>\n",
       "      <td>train</td>\n",
       "    </tr>\n",
       "    <tr>\n",
       "      <th>1</th>\n",
       "      <td>im getting on borderlands and i will kill you ...</td>\n",
       "      <td>Positive</td>\n",
       "      <td>train</td>\n",
       "    </tr>\n",
       "    <tr>\n",
       "      <th>2</th>\n",
       "      <td>im coming on borderlands and i will murder you...</td>\n",
       "      <td>Positive</td>\n",
       "      <td>train</td>\n",
       "    </tr>\n",
       "    <tr>\n",
       "      <th>3</th>\n",
       "      <td>im getting on borderlands 2 and i will murder ...</td>\n",
       "      <td>Positive</td>\n",
       "      <td>train</td>\n",
       "    </tr>\n",
       "    <tr>\n",
       "      <th>4</th>\n",
       "      <td>im getting into borderlands and i can murder y...</td>\n",
       "      <td>Positive</td>\n",
       "      <td>train</td>\n",
       "    </tr>\n",
       "  </tbody>\n",
       "</table>\n",
       "</div>"
      ],
      "text/plain": [
       "                                                text sentiment    ind\n",
       "0  i am coming to the borders and i will kill you...  Positive  train\n",
       "1  im getting on borderlands and i will kill you ...  Positive  train\n",
       "2  im coming on borderlands and i will murder you...  Positive  train\n",
       "3  im getting on borderlands 2 and i will murder ...  Positive  train\n",
       "4  im getting into borderlands and i can murder y...  Positive  train"
      ]
     },
     "execution_count": 25,
     "metadata": {},
     "output_type": "execute_result"
    }
   ],
   "source": [
    "df.head()"
   ]
  },
  {
   "cell_type": "markdown",
   "metadata": {
    "id": "ffRqRm0iX2pF"
   },
   "source": [
    "Now, let's analyze the data to gain deeper insights."
   ]
  },
  {
   "cell_type": "code",
   "execution_count": 26,
   "metadata": {
    "id": "0TwbLs8aJ4gl"
   },
   "outputs": [],
   "source": [
    "def countplot_sentiment_distribution(df,col):\n",
    "    \"\"\"\n",
    "    Plot the distribution of sentiments in the dataframe.\n",
    "    \"\"\"\n",
    "    # Setting the aesthetic style of the plots\n",
    "    sns.set_style(\"whitegrid\")\n",
    "\n",
    "    # Creating the plot\n",
    "    plt.figure(figsize=(7, 5))\n",
    "    sns.countplot(data=df, x=col, palette='viridis')\n",
    "\n",
    "    # Adding titles and labels\n",
    "    plt.title(f\"{col} Distribution\", fontsize=15)\n",
    "    plt.xlabel(col, fontsize=12)\n",
    "    plt.ylabel('Count', fontsize=12)\n",
    "    plt.xticks(fontsize=10)\n",
    "    plt.yticks(fontsize=10)\n",
    "\n",
    "    # Displaying the plot\n",
    "    plt.show()"
   ]
  },
  {
   "cell_type": "code",
   "execution_count": 27,
   "metadata": {
    "id": "4G-MA0_5J4gm"
   },
   "outputs": [],
   "source": [
    "def histplot_text_length_distribution(data):\n",
    "    plt.figure(figsize=(8, 6))\n",
    "    sns.histplot(data['text'].str.len(), bins=30, kde=False)\n",
    "    plt.title('Text Length Distribution')\n",
    "    plt.xlabel('Text Length')\n",
    "    plt.ylabel('Frequency')\n",
    "    plt.show()"
   ]
  },
  {
   "cell_type": "code",
   "execution_count": 28,
   "metadata": {
    "id": "QRyFdxcPJ4gm"
   },
   "outputs": [],
   "source": [
    "def pie_sentiment_distribution1(data):\n",
    "    sentiment_counts = data['sentiment'].value_counts()\n",
    "    plt.figure(figsize=(6, 6))\n",
    "    plt.pie(sentiment_counts, labels=sentiment_counts.index, autopct='%1.1f%%', startangle=140)\n",
    "    plt.title('Sentiment Distribution')\n",
    "    plt.show()"
   ]
  },
  {
   "cell_type": "code",
   "execution_count": 29,
   "metadata": {
    "id": "Swz98i2XJ4gm"
   },
   "outputs": [],
   "source": [
    "def plot_average_text_length_by_sentiment(data):\n",
    "    data['text_length'] = data['text'].str.len()\n",
    "    average_length_by_sentiment = data.groupby('sentiment')['text_length'].mean()\n",
    "    plt.figure(figsize=(8, 6))\n",
    "    average_length_by_sentiment.plot(kind='bar', color=['blue', 'green', 'red'])\n",
    "    plt.title('Average Text Length by Sentiment')\n",
    "    plt.xlabel('Sentiment')\n",
    "    plt.ylabel('Average Text Length')\n",
    "    plt.xticks(rotation=0)\n",
    "    plt.show()"
   ]
  },
  {
   "cell_type": "code",
   "execution_count": 30,
   "metadata": {
    "id": "QSuVpm6a7n1u"
   },
   "outputs": [],
   "source": [
    "def boxplot_length_distribution(df):\n",
    "    \"\"\"\n",
    "    Plot the distribution of tweet lengths by sentiment with enhanced Y-axis granularity.\n",
    "\n",
    "    Parameters:\n",
    "    df (pandas.DataFrame): DataFrame containing 'text' and 'sentiment' columns.\n",
    "    \"\"\"\n",
    "    # Calculate tweet lengths\n",
    "    df['text_length'] = df['text'].apply(len)\n",
    "\n",
    "    # Initialize the matplotlib figure\n",
    "    plt.figure(figsize=(10, 6))\n",
    "\n",
    "    # Create a boxplot\n",
    "    sns.boxplot(x='sentiment', y='text_length', data=df, showfliers=True, showmeans=True)\n",
    "\n",
    "    plt.title('Distribution of Tweet Lengths by Sentiment')\n",
    "    plt.xlabel('Sentiment')\n",
    "    plt.ylabel('Length of text')\n",
    "\n",
    "    # Enhancing Y-axis granularity\n",
    "    max_length = df['text_length'].max()\n",
    "    plt.yticks(range(0, max_length + 1, 25))  # Adjust the step (50 in this case) as needed\n",
    "\n",
    "    # Show the plot\n",
    "    plt.show()\n"
   ]
  },
  {
   "cell_type": "code",
   "execution_count": 31,
   "metadata": {
    "id": "m2yf2NRHJ4gm"
   },
   "outputs": [],
   "source": [
    "def filter_and_convert_sentiments(df, sentiment_mapping):\n",
    "    \"\"\"\n",
    "    Filters a DataFrame to keep only specified sentiments and converts those sentiment labels to numerical values.\n",
    "\n",
    "    Parameters:\n",
    "    - df: DataFrame containing the Twitter data with a 'Sentiment' column.\n",
    "    - sentiment_mapping: Dictionary with sentiment text as keys and their numeric representation as values.\n",
    "\n",
    "    Returns:\n",
    "    - df: Processed DataFrame with sentiments converted to their corresponding numerical values.\n",
    "    \"\"\"\n",
    "\n",
    "    # Create a copy of the DataFrame to avoid SettingWithCopyWarning\n",
    "    df_filtered = df[df['sentiment'].isin(sentiment_mapping.keys())].copy()\n",
    "\n",
    "    # Convert sentiment labels to their corresponding numerical values using the sentiment_mapping\n",
    "    df_filtered['sentiment'] = df_filtered['sentiment'].map(sentiment_mapping)\n",
    "\n",
    "    return df_filtered"
   ]
  },
  {
   "cell_type": "code",
   "execution_count": 32,
   "metadata": {
    "colab": {
     "base_uri": "https://localhost:8080/",
     "height": 0
    },
    "id": "14PLlQccJ4gm",
    "outputId": "9f5e5e19-fe99-4ea0-fc09-06e270053b11"
   },
   "outputs": [
    {
     "name": "stderr",
     "output_type": "stream",
     "text": [
      "C:\\Users\\Baba\\AppData\\Local\\Temp\\ipykernel_4616\\2543616231.py:10: FutureWarning: \n",
      "\n",
      "Passing `palette` without assigning `hue` is deprecated and will be removed in v0.14.0. Assign the `x` variable to `hue` and set `legend=False` for the same effect.\n",
      "\n",
      "  sns.countplot(data=df, x=col, palette='viridis')\n"
     ]
    },
    {
     "data": {
      "image/png": "[encoded data removed]",
      "text/plain": [
       "<Figure size 700x500 with 1 Axes>"
      ]
     },
     "metadata": {},
     "output_type": "display_data"
    }
   ],
   "source": [
    "countplot_sentiment_distribution(df,'sentiment')"
   ]
  },
  {
   "cell_type": "markdown",
   "metadata": {
    "id": "-ObHYIrxYHb8"
   },
   "source": [
    "The sentiment distribution analysis reveals that the 'Sentiment' field has the following classes:\n",
    "\n",
    "- Negative\n",
    "- Positive\n",
    "- Neutral\n",
    "- Irrelevant"
   ]
  },
  {
   "cell_type": "markdown",
   "metadata": {
    "id": "cR2EI153Yczr"
   },
   "source": [
    "We will remove Irrlevant data. Also, to optimize the performance of our predictive model, we will transform the categorical sentiment labels into numerical values."
   ]
  },
  {
   "cell_type": "code",
   "execution_count": 33,
   "metadata": {
    "id": "yn1o_jyCJ4gn"
   },
   "outputs": [],
   "source": [
    "sentiment_mapping = {\n",
    "    'Positive': 0,\n",
    "    'Negative': 1,\n",
    "    'Neutral':2\n",
    "}\n",
    "df['sentiment_text']=df['sentiment']\n",
    "df = filter_and_convert_sentiments(df, sentiment_mapping)"
   ]
  },
  {
   "cell_type": "code",
   "execution_count": 34,
   "metadata": {
    "colab": {
     "base_uri": "https://localhost:8080/",
     "height": 0
    },
    "id": "gH8MCB0bJ4gn",
    "outputId": "e8adebaa-6468-4db3-90e9-3e7934940e27"
   },
   "outputs": [
    {
     "data": {
      "text/html": [
       "<div>\n",
       "<style scoped>\n",
       "    .dataframe tbody tr th:only-of-type {\n",
       "        vertical-align: middle;\n",
       "    }\n",
       "\n",
       "    .dataframe tbody tr th {\n",
       "        vertical-align: top;\n",
       "    }\n",
       "\n",
       "    .dataframe thead th {\n",
       "        text-align: right;\n",
       "    }\n",
       "</style>\n",
       "<table border=\"1\" class=\"dataframe\">\n",
       "  <thead>\n",
       "    <tr style=\"text-align: right;\">\n",
       "      <th></th>\n",
       "      <th>text</th>\n",
       "      <th>sentiment</th>\n",
       "      <th>ind</th>\n",
       "      <th>sentiment_text</th>\n",
       "    </tr>\n",
       "  </thead>\n",
       "  <tbody>\n",
       "    <tr>\n",
       "      <th>0</th>\n",
       "      <td>i am coming to the borders and i will kill you...</td>\n",
       "      <td>0</td>\n",
       "      <td>train</td>\n",
       "      <td>Positive</td>\n",
       "    </tr>\n",
       "    <tr>\n",
       "      <th>1</th>\n",
       "      <td>im getting on borderlands and i will kill you ...</td>\n",
       "      <td>0</td>\n",
       "      <td>train</td>\n",
       "      <td>Positive</td>\n",
       "    </tr>\n",
       "    <tr>\n",
       "      <th>2</th>\n",
       "      <td>im coming on borderlands and i will murder you...</td>\n",
       "      <td>0</td>\n",
       "      <td>train</td>\n",
       "      <td>Positive</td>\n",
       "    </tr>\n",
       "    <tr>\n",
       "      <th>3</th>\n",
       "      <td>im getting on borderlands 2 and i will murder ...</td>\n",
       "      <td>0</td>\n",
       "      <td>train</td>\n",
       "      <td>Positive</td>\n",
       "    </tr>\n",
       "    <tr>\n",
       "      <th>4</th>\n",
       "      <td>im getting into borderlands and i can murder y...</td>\n",
       "      <td>0</td>\n",
       "      <td>train</td>\n",
       "      <td>Positive</td>\n",
       "    </tr>\n",
       "  </tbody>\n",
       "</table>\n",
       "</div>"
      ],
      "text/plain": [
       "                                                text  sentiment    ind  \\\n",
       "0  i am coming to the borders and i will kill you...          0  train   \n",
       "1  im getting on borderlands and i will kill you ...          0  train   \n",
       "2  im coming on borderlands and i will murder you...          0  train   \n",
       "3  im getting on borderlands 2 and i will murder ...          0  train   \n",
       "4  im getting into borderlands and i can murder y...          0  train   \n",
       "\n",
       "  sentiment_text  \n",
       "0       Positive  \n",
       "1       Positive  \n",
       "2       Positive  \n",
       "3       Positive  \n",
       "4       Positive  "
      ]
     },
     "execution_count": 34,
     "metadata": {},
     "output_type": "execute_result"
    }
   ],
   "source": [
    "df.head()"
   ]
  },
  {
   "cell_type": "code",
   "execution_count": 35,
   "metadata": {
    "colab": {
     "base_uri": "https://localhost:8080/",
     "height": 0
    },
    "id": "WOp7NXyMJ4gn",
    "outputId": "d72228e0-c518-4d59-c9d8-98e67d94b501"
   },
   "outputs": [
    {
     "name": "stderr",
     "output_type": "stream",
     "text": [
      "C:\\Users\\Baba\\AppData\\Local\\Temp\\ipykernel_4616\\2543616231.py:10: FutureWarning: \n",
      "\n",
      "Passing `palette` without assigning `hue` is deprecated and will be removed in v0.14.0. Assign the `x` variable to `hue` and set `legend=False` for the same effect.\n",
      "\n",
      "  sns.countplot(data=df, x=col, palette='viridis')\n"
     ]
    },
    {
     "data": {
      "image/png": "[encoded data removed]",
      "text/plain": [
       "<Figure size 700x500 with 1 Axes>"
      ]
     },
     "metadata": {},
     "output_type": "display_data"
    }
   ],
   "source": [
    "countplot_sentiment_distribution(df,'sentiment')"
   ]
  },
  {
   "cell_type": "markdown",
   "metadata": {
    "id": "fqnBfbV8ZT52"
   },
   "source": [
    "The classes are balanced"
   ]
  },
  {
   "cell_type": "code",
   "execution_count": 36,
   "metadata": {
    "colab": {
     "base_uri": "https://localhost:8080/",
     "height": 0
    },
    "id": "-xjfjGUcJ4gn",
    "outputId": "a8a2697c-fe26-4692-c341-0805384c7aa9"
   },
   "outputs": [
    {
     "data": {
      "image/png": "[encoded data removed]",
      "text/plain": [
       "<Figure size 800x600 with 1 Axes>"
      ]
     },
     "metadata": {},
     "output_type": "display_data"
    }
   ],
   "source": [
    "histplot_text_length_distribution(df)"
   ]
  },
  {
   "cell_type": "markdown",
   "metadata": {
    "id": "sLmPoMl9ebk_"
   },
   "source": [
    "The graph appears to have a right-skewed distribution. This suggests that most of the texts are on the shorter side, with fewer texts having a longer length."
   ]
  },
  {
   "cell_type": "code",
   "execution_count": 37,
   "metadata": {
    "colab": {
     "base_uri": "https://localhost:8080/",
     "height": 0
    },
    "id": "UzGbSmuN8cP4",
    "outputId": "26db3263-3b8f-4f98-898b-ae2c19118172"
   },
   "outputs": [
    {
     "data": {
      "image/png": "[encoded data removed]",
      "text/plain": [
       "<Figure size 1000x600 with 1 Axes>"
      ]
     },
     "metadata": {},
     "output_type": "display_data"
    }
   ],
   "source": [
    "df.text=df.text.astype(str)\n",
    "boxplot_length_distribution(df)"
   ]
  },
  {
   "cell_type": "markdown",
   "metadata": {
    "id": "liJ0B1qU9Ra4"
   },
   "source": [
    "The graph indicates the presence of numerous outliers characterized by longer text lengths. It appears that these outliers begin at a text length of around 260. To further investigate, we will examine how many entries in the database have a text length exceeding 260 characters."
   ]
  },
  {
   "cell_type": "code",
   "execution_count": 38,
   "metadata": {
    "id": "LCDG5mnC925l"
   },
   "outputs": [],
   "source": [
    "def count_long_texts(df, threshold=260):\n",
    "    \"\"\"\n",
    "    Count the number of texts longer than a specified threshold and calculate their percentage.\n",
    "\n",
    "    Parameters:\n",
    "    df (pandas.DataFrame): DataFrame containing the 'text' column.\n",
    "    threshold (int): Length threshold for considering a text as 'long'.\n",
    "\n",
    "    Returns:\n",
    "    None: Prints the count and percentage of long texts.\n",
    "    \"\"\"\n",
    "    # Count the number of texts longer than the threshold\n",
    "    long_texts_count = df[df['text'].str.len() > threshold].shape[0]\n",
    "\n",
    "    # Calculate the percentage of long texts\n",
    "    total_texts = df.shape[0]\n",
    "    long_texts_percentage = (long_texts_count / total_texts) * 100\n",
    "\n",
    "    # Print the results\n",
    "    print(f\"Number of texts longer than {threshold} characters: {long_texts_count}\")\n",
    "    print(f\"Percentage of texts longer than {threshold} characters: {long_texts_percentage:.2f}%\")\n"
   ]
  },
  {
   "cell_type": "code",
   "execution_count": 39,
   "metadata": {
    "colab": {
     "base_uri": "https://localhost:8080/"
    },
    "id": "wWdb53gf96Ji",
    "outputId": "7bf7fa60-14a7-440c-993d-64a44631d2b2"
   },
   "outputs": [
    {
     "name": "stdout",
     "output_type": "stream",
     "text": [
      "Number of texts longer than 260 characters: 4038\n",
      "Percentage of texts longer than 260 characters: 6.52%\n"
     ]
    }
   ],
   "source": [
    "count_long_texts(df)"
   ]
  },
  {
   "cell_type": "markdown",
   "metadata": {
    "id": "Rqt2Y6neAYeQ"
   },
   "source": [
    "The texts exceeding 260 characters constitute 6.52% of our dataset. To enhance model performance, we've decided to exclude them. Retaining these longer texts previously resulted in extensive computation times and suboptimal performance."
   ]
  },
  {
   "cell_type": "code",
   "execution_count": 40,
   "metadata": {
    "id": "XWn8FgsB-0ut"
   },
   "outputs": [],
   "source": [
    "# Remove texts longer than 260\n",
    "df = df[df['text_length']<= 260]\n"
   ]
  },
  {
   "cell_type": "code",
   "execution_count": 41,
   "metadata": {
    "colab": {
     "base_uri": "https://localhost:8080/"
    },
    "id": "Yo8PyW6T-7rH",
    "outputId": "b7b691a6-989b-4578-b516-0fb4a5a27cdf"
   },
   "outputs": [
    {
     "name": "stdout",
     "output_type": "stream",
     "text": [
      "Number of texts longer than 260 characters: 0\n",
      "Percentage of texts longer than 260 characters: 0.00%\n"
     ]
    }
   ],
   "source": [
    "count_long_texts(df)"
   ]
  },
  {
   "cell_type": "code",
   "execution_count": 42,
   "metadata": {
    "colab": {
     "base_uri": "https://localhost:8080/",
     "height": 0
    },
    "id": "a5FAmtRs_Amg",
    "outputId": "a4c5881d-d38b-4e06-dc87-dda0a3152f74"
   },
   "outputs": [
    {
     "data": {
      "image/png": "[encoded data removed]",
      "text/plain": [
       "<Figure size 1000x600 with 1 Axes>"
      ]
     },
     "metadata": {},
     "output_type": "display_data"
    }
   ],
   "source": [
    "boxplot_length_distribution(df)"
   ]
  },
  {
   "cell_type": "code",
   "execution_count": 43,
   "metadata": {
    "colab": {
     "base_uri": "https://localhost:8080/",
     "height": 0
    },
    "id": "A3rmds8sCVmj",
    "outputId": "09f72414-5c97-4ae2-c0b9-b6cdadf39f4e"
   },
   "outputs": [
    {
     "data": {
      "image/png": "[encoded data removed]",
      "text/plain": [
       "<Figure size 800x600 with 1 Axes>"
      ]
     },
     "metadata": {},
     "output_type": "display_data"
    }
   ],
   "source": [
    "histplot_text_length_distribution(df)"
   ]
  },
  {
   "cell_type": "markdown",
   "metadata": {
    "id": "f18-CAsYf4HL"
   },
   "source": [
    "We will remove outliers in an effort to create a more uniform dataset, potentially enhancing the model's predictive accuracy. While we recognize that outliers can often provide useful insights, our previous attempts to use all records did not yield satisfactory performance. We are now exploring different approaches to improve the results"
   ]
  },
  {
   "cell_type": "code",
   "execution_count": 44,
   "metadata": {
    "id": "aeDew7R0gEgV"
   },
   "outputs": [],
   "source": [
    "def remove_outliers(df, column_name, iqr_multiplier=3):\n",
    "    \"\"\"\n",
    "    Remove outliers from a dataframe based on the Interquartile Range (IQR) method.\n",
    "\n",
    "    Parameters:\n",
    "    df (pandas.DataFrame): The dataframe from which to remove outliers.\n",
    "    column_name (str): The name of the column based on which outliers will be identified.\n",
    "    iqr_multiplier (float): The multiplier for the IQR to define the bounds for outliers.\n",
    "\n",
    "    Returns:\n",
    "    pandas.DataFrame: A new dataframe with outliers removed.\n",
    "    \"\"\"\n",
    "    # Calculate the IQR\n",
    "    Q1 = df[column_name].quantile(0.25)\n",
    "    Q3 = df[column_name].quantile(0.75)\n",
    "    IQR = Q3 - Q1\n",
    "\n",
    "    # Define the bounds for outliers\n",
    "    lower_bound = Q1 - iqr_multiplier * IQR\n",
    "    upper_bound = Q3 + iqr_multiplier * IQR\n",
    "\n",
    "    # Filter the dataframe to remove outliers\n",
    "    filtered_df = df[(df[column_name] >= lower_bound) & (df[column_name] <= upper_bound)]\n",
    "\n",
    "    return filtered_df"
   ]
  },
  {
   "cell_type": "code",
   "execution_count": 45,
   "metadata": {
    "colab": {
     "base_uri": "https://localhost:8080/"
    },
    "id": "UnXZJdtAjYcm",
    "outputId": "c290d5ca-fa19-4292-8e2b-8307c31c509f"
   },
   "outputs": [
    {
     "data": {
      "text/plain": [
       "(57910, 5)"
      ]
     },
     "execution_count": 45,
     "metadata": {},
     "output_type": "execute_result"
    }
   ],
   "source": [
    "df.shape"
   ]
  },
  {
   "cell_type": "code",
   "execution_count": 46,
   "metadata": {
    "id": "MqaZRzaQgNH4"
   },
   "outputs": [],
   "source": [
    "df = remove_outliers(df, 'text_length',iqr_multiplier=1)"
   ]
  },
  {
   "cell_type": "code",
   "execution_count": 47,
   "metadata": {
    "colab": {
     "base_uri": "https://localhost:8080/"
    },
    "id": "ekmxOnXwjU8o",
    "outputId": "81f28ff5-72b1-40c3-afee-59ab3bdbb87b"
   },
   "outputs": [
    {
     "data": {
      "text/plain": [
       "(55278, 5)"
      ]
     },
     "execution_count": 47,
     "metadata": {},
     "output_type": "execute_result"
    }
   ],
   "source": [
    "df.shape"
   ]
  },
  {
   "cell_type": "code",
   "execution_count": 48,
   "metadata": {
    "colab": {
     "base_uri": "https://localhost:8080/"
    },
    "id": "XSmjpjBnFauo",
    "outputId": "a9bb943b-bbac-436a-80ac-7725bb86277f"
   },
   "outputs": [
    {
     "name": "stdout",
     "output_type": "stream",
     "text": [
      "Number of rows removed: 2632\n"
     ]
    }
   ],
   "source": [
    "print(\"Number of rows removed:\", 57910-55278)"
   ]
  },
  {
   "cell_type": "markdown",
   "metadata": {
    "id": "jDI-TEAPHIyl"
   },
   "source": [
    "We will check the dataset for any texts that are less than 2 characters long, and remove them. These short texts usually aren't helpful for our work."
   ]
  },
  {
   "cell_type": "code",
   "execution_count": 49,
   "metadata": {
    "id": "F_pgK4nKECbc"
   },
   "outputs": [],
   "source": [
    "df = df.sort_values(by='text_length')"
   ]
  },
  {
   "cell_type": "code",
   "execution_count": 50,
   "metadata": {
    "colab": {
     "base_uri": "https://localhost:8080/",
     "height": 0
    },
    "id": "HZSXq_y3EEU0",
    "outputId": "fa01b936-a23f-43c8-cb66-b83545cd1ee3"
   },
   "outputs": [
    {
     "data": {
      "text/html": [
       "<div>\n",
       "<style scoped>\n",
       "    .dataframe tbody tr th:only-of-type {\n",
       "        vertical-align: middle;\n",
       "    }\n",
       "\n",
       "    .dataframe tbody tr th {\n",
       "        vertical-align: top;\n",
       "    }\n",
       "\n",
       "    .dataframe thead th {\n",
       "        text-align: right;\n",
       "    }\n",
       "</style>\n",
       "<table border=\"1\" class=\"dataframe\">\n",
       "  <thead>\n",
       "    <tr style=\"text-align: right;\">\n",
       "      <th></th>\n",
       "      <th>text</th>\n",
       "      <th>sentiment</th>\n",
       "      <th>ind</th>\n",
       "      <th>sentiment_text</th>\n",
       "      <th>text_length</th>\n",
       "    </tr>\n",
       "  </thead>\n",
       "  <tbody>\n",
       "    <tr>\n",
       "      <th>72365</th>\n",
       "      <td></td>\n",
       "      <td>1</td>\n",
       "      <td>train</td>\n",
       "      <td>Negative</td>\n",
       "      <td>1</td>\n",
       "    </tr>\n",
       "    <tr>\n",
       "      <th>62242</th>\n",
       "      <td>a</td>\n",
       "      <td>1</td>\n",
       "      <td>train</td>\n",
       "      <td>Negative</td>\n",
       "      <td>1</td>\n",
       "    </tr>\n",
       "    <tr>\n",
       "      <th>43679</th>\n",
       "      <td></td>\n",
       "      <td>1</td>\n",
       "      <td>train</td>\n",
       "      <td>Negative</td>\n",
       "      <td>1</td>\n",
       "    </tr>\n",
       "    <tr>\n",
       "      <th>8687</th>\n",
       "      <td></td>\n",
       "      <td>1</td>\n",
       "      <td>train</td>\n",
       "      <td>Negative</td>\n",
       "      <td>1</td>\n",
       "    </tr>\n",
       "    <tr>\n",
       "      <th>34288</th>\n",
       "      <td>i</td>\n",
       "      <td>2</td>\n",
       "      <td>train</td>\n",
       "      <td>Neutral</td>\n",
       "      <td>1</td>\n",
       "    </tr>\n",
       "    <tr>\n",
       "      <th>43961</th>\n",
       "      <td></td>\n",
       "      <td>1</td>\n",
       "      <td>train</td>\n",
       "      <td>Negative</td>\n",
       "      <td>1</td>\n",
       "    </tr>\n",
       "    <tr>\n",
       "      <th>68848</th>\n",
       "      <td>a</td>\n",
       "      <td>0</td>\n",
       "      <td>train</td>\n",
       "      <td>Positive</td>\n",
       "      <td>1</td>\n",
       "    </tr>\n",
       "    <tr>\n",
       "      <th>8873</th>\n",
       "      <td></td>\n",
       "      <td>2</td>\n",
       "      <td>train</td>\n",
       "      <td>Neutral</td>\n",
       "      <td>1</td>\n",
       "    </tr>\n",
       "    <tr>\n",
       "      <th>62021</th>\n",
       "      <td></td>\n",
       "      <td>2</td>\n",
       "      <td>train</td>\n",
       "      <td>Neutral</td>\n",
       "      <td>1</td>\n",
       "    </tr>\n",
       "    <tr>\n",
       "      <th>44212</th>\n",
       "      <td>a</td>\n",
       "      <td>0</td>\n",
       "      <td>train</td>\n",
       "      <td>Positive</td>\n",
       "      <td>1</td>\n",
       "    </tr>\n",
       "  </tbody>\n",
       "</table>\n",
       "</div>"
      ],
      "text/plain": [
       "      text  sentiment    ind sentiment_text  text_length\n",
       "72365               1  train       Negative            1\n",
       "62242    a          1  train       Negative            1\n",
       "43679               1  train       Negative            1\n",
       "8687                1  train       Negative            1\n",
       "34288    i          2  train        Neutral            1\n",
       "43961               1  train       Negative            1\n",
       "68848    a          0  train       Positive            1\n",
       "8873                2  train        Neutral            1\n",
       "62021               2  train        Neutral            1\n",
       "44212    a          0  train       Positive            1"
      ]
     },
     "execution_count": 50,
     "metadata": {},
     "output_type": "execute_result"
    }
   ],
   "source": [
    "df.head(10)"
   ]
  },
  {
   "cell_type": "code",
   "execution_count": 51,
   "metadata": {
    "id": "T6cYgnimEX0M"
   },
   "outputs": [],
   "source": [
    "# Remove texts less than 3\n",
    "df = df[df['text_length'] > 2]"
   ]
  },
  {
   "cell_type": "code",
   "execution_count": 52,
   "metadata": {
    "colab": {
     "base_uri": "https://localhost:8080/",
     "height": 0
    },
    "id": "p5Tl8N3wEd1D",
    "outputId": "6f9d8503-3440-41bc-fc9c-e8978c347746"
   },
   "outputs": [
    {
     "data": {
      "text/html": [
       "<div>\n",
       "<style scoped>\n",
       "    .dataframe tbody tr th:only-of-type {\n",
       "        vertical-align: middle;\n",
       "    }\n",
       "\n",
       "    .dataframe tbody tr th {\n",
       "        vertical-align: top;\n",
       "    }\n",
       "\n",
       "    .dataframe thead th {\n",
       "        text-align: right;\n",
       "    }\n",
       "</style>\n",
       "<table border=\"1\" class=\"dataframe\">\n",
       "  <thead>\n",
       "    <tr style=\"text-align: right;\">\n",
       "      <th></th>\n",
       "      <th>text</th>\n",
       "      <th>sentiment</th>\n",
       "      <th>ind</th>\n",
       "      <th>sentiment_text</th>\n",
       "      <th>text_length</th>\n",
       "    </tr>\n",
       "  </thead>\n",
       "  <tbody>\n",
       "    <tr>\n",
       "      <th>32620</th>\n",
       "      <td>the</td>\n",
       "      <td>1</td>\n",
       "      <td>train</td>\n",
       "      <td>Negative</td>\n",
       "      <td>3</td>\n",
       "    </tr>\n",
       "    <tr>\n",
       "      <th>32644</th>\n",
       "      <td>can</td>\n",
       "      <td>2</td>\n",
       "      <td>train</td>\n",
       "      <td>Neutral</td>\n",
       "      <td>3</td>\n",
       "    </tr>\n",
       "    <tr>\n",
       "      <th>4522</th>\n",
       "      <td>and</td>\n",
       "      <td>1</td>\n",
       "      <td>train</td>\n",
       "      <td>Negative</td>\n",
       "      <td>3</td>\n",
       "    </tr>\n",
       "    <tr>\n",
       "      <th>24382</th>\n",
       "      <td>was</td>\n",
       "      <td>0</td>\n",
       "      <td>train</td>\n",
       "      <td>Positive</td>\n",
       "      <td>3</td>\n",
       "    </tr>\n",
       "    <tr>\n",
       "      <th>67042</th>\n",
       "      <td>you</td>\n",
       "      <td>0</td>\n",
       "      <td>train</td>\n",
       "      <td>Positive</td>\n",
       "      <td>3</td>\n",
       "    </tr>\n",
       "    <tr>\n",
       "      <th>2413</th>\n",
       "      <td>...</td>\n",
       "      <td>1</td>\n",
       "      <td>train</td>\n",
       "      <td>Negative</td>\n",
       "      <td>3</td>\n",
       "    </tr>\n",
       "    <tr>\n",
       "      <th>66368</th>\n",
       "      <td>wtf</td>\n",
       "      <td>1</td>\n",
       "      <td>train</td>\n",
       "      <td>Negative</td>\n",
       "      <td>3</td>\n",
       "    </tr>\n",
       "    <tr>\n",
       "      <th>26434</th>\n",
       "      <td>not</td>\n",
       "      <td>0</td>\n",
       "      <td>train</td>\n",
       "      <td>Positive</td>\n",
       "      <td>3</td>\n",
       "    </tr>\n",
       "    <tr>\n",
       "      <th>2986</th>\n",
       "      <td>...</td>\n",
       "      <td>2</td>\n",
       "      <td>train</td>\n",
       "      <td>Neutral</td>\n",
       "      <td>3</td>\n",
       "    </tr>\n",
       "    <tr>\n",
       "      <th>34336</th>\n",
       "      <td>out</td>\n",
       "      <td>0</td>\n",
       "      <td>train</td>\n",
       "      <td>Positive</td>\n",
       "      <td>3</td>\n",
       "    </tr>\n",
       "  </tbody>\n",
       "</table>\n",
       "</div>"
      ],
      "text/plain": [
       "      text  sentiment    ind sentiment_text  text_length\n",
       "32620  the          1  train       Negative            3\n",
       "32644  can          2  train        Neutral            3\n",
       "4522   and          1  train       Negative            3\n",
       "24382  was          0  train       Positive            3\n",
       "67042  you          0  train       Positive            3\n",
       "2413   ...          1  train       Negative            3\n",
       "66368  wtf          1  train       Negative            3\n",
       "26434  not          0  train       Positive            3\n",
       "2986   ...          2  train        Neutral            3\n",
       "34336  out          0  train       Positive            3"
      ]
     },
     "execution_count": 52,
     "metadata": {},
     "output_type": "execute_result"
    }
   ],
   "source": [
    "df.head(10)"
   ]
  },
  {
   "cell_type": "code",
   "execution_count": 53,
   "metadata": {
    "colab": {
     "base_uri": "https://localhost:8080/",
     "height": 0
    },
    "id": "hQImd8lnHvC_",
    "outputId": "9b237917-51b5-4b88-9132-47af47914fa0"
   },
   "outputs": [
    {
     "data": {
      "image/png": "[encoded data removed]",
      "text/plain": [
       "<Figure size 800x600 with 1 Axes>"
      ]
     },
     "metadata": {},
     "output_type": "display_data"
    }
   ],
   "source": [
    "histplot_text_length_distribution(df)"
   ]
  },
  {
   "cell_type": "code",
   "execution_count": 54,
   "metadata": {
    "colab": {
     "base_uri": "https://localhost:8080/",
     "height": 0
    },
    "id": "ZFu_Va2iH05_",
    "outputId": "63718a47-c7bd-417e-8f12-0b73fd5c947b"
   },
   "outputs": [
    {
     "data": {
      "image/png": "[encoded data removed]",
      "text/plain": [
       "<Figure size 1000x600 with 1 Axes>"
      ]
     },
     "metadata": {},
     "output_type": "display_data"
    }
   ],
   "source": [
    "boxplot_length_distribution(df)"
   ]
  },
  {
   "cell_type": "code",
   "execution_count": 55,
   "metadata": {
    "colab": {
     "base_uri": "https://localhost:8080/"
    },
    "id": "DC8tfWJ3IMAZ",
    "outputId": "b0d8963a-fe0e-4f7e-fb0b-c6dab5f1ad64"
   },
   "outputs": [
    {
     "data": {
      "text/plain": [
       "(54558, 5)"
      ]
     },
     "execution_count": 55,
     "metadata": {},
     "output_type": "execute_result"
    }
   ],
   "source": [
    "df.shape"
   ]
  },
  {
   "cell_type": "code",
   "execution_count": 56,
   "metadata": {
    "id": "hsP-w55lZARB"
   },
   "outputs": [],
   "source": [
    "def count_short_text_words(df, max_length=4):\n",
    "    \"\"\"\n",
    "    Get all records with text length of max_length or less, count each word, and return the results.\n",
    "\n",
    "    Parameters:\n",
    "    df (pandas.DataFrame): The DataFrame with a 'text' column.\n",
    "    max_length (int): The maximum length of text to consider.\n",
    "\n",
    "    Returns:\n",
    "    pandas.DataFrame: A DataFrame with word counts.\n",
    "    \"\"\"\n",
    "    # Filter to get texts of length max_length or less\n",
    "    short_texts = df[df['text'].str.len() <= max_length]\n",
    "\n",
    "    # Split the texts into words and count the occurrences\n",
    "    word_counts = short_texts['text'].str.split(expand=True).stack().value_counts()\n",
    "\n",
    "    # Convert the Series to a DataFrame\n",
    "    word_counts_df = word_counts.reset_index()\n",
    "    word_counts_df.columns = ['Word', 'Count']\n",
    "\n",
    "    # Print the word counts\n",
    "    print(word_counts_df)\n",
    "\n",
    "    return word_counts_df"
   ]
  },
  {
   "cell_type": "code",
   "execution_count": 57,
   "metadata": {
    "colab": {
     "base_uri": "https://localhost:8080/"
    },
    "id": "iFArK_n2ZGt7",
    "outputId": "385d34b6-819f-40ee-8475-d64589bc1dfd"
   },
   "outputs": [
    {
     "name": "stdout",
     "output_type": "stream",
     "text": [
      "     Word  Count\n",
      "0     the     77\n",
      "1     wow     71\n",
      "2     you     70\n",
      "3     wtf     37\n",
      "4    wow.     33\n",
      "..    ...    ...\n",
      "117  was.      1\n",
      "118    me      1\n",
      "119  stop      1\n",
      "120  ls!!      1\n",
      "121  aha.      1\n",
      "\n",
      "[122 rows x 2 columns]\n"
     ]
    }
   ],
   "source": [
    "result_df = count_short_text_words(df)"
   ]
  },
  {
   "cell_type": "code",
   "execution_count": 58,
   "metadata": {},
   "outputs": [],
   "source": [
    "# Remove duplicates based on the 'text' column\n",
    "df = df.drop_duplicates(subset='text', keep='first')"
   ]
  },
  {
   "cell_type": "markdown",
   "metadata": {},
   "source": [
    "Check the dataset to identify and remove short texts with one word of 3, 4, or 5 length, retaining only those that may be beneficial for training purposes."
   ]
  },
  {
   "cell_type": "code",
   "execution_count": 59,
   "metadata": {},
   "outputs": [],
   "source": [
    "def filter_by_length(df,n):\n",
    "    return df[df['text'].str.len() == n]"
   ]
  },
  {
   "cell_type": "code",
   "execution_count": 60,
   "metadata": {},
   "outputs": [],
   "source": [
    "df_filtered_3 = filter_by_length(df,3)\n",
    "df_filtered_4 = filter_by_length(df,4)\n",
    "df_filtered_5 = filter_by_length(df,5)"
   ]
  },
  {
   "cell_type": "markdown",
   "metadata": {},
   "source": [
    "Save them to files to check them one by one."
   ]
  },
  {
   "cell_type": "code",
   "execution_count": 61,
   "metadata": {},
   "outputs": [],
   "source": [
    "df_filtered_3.to_csv('text_length_3.csv', index=False)\n",
    "df_filtered_4.to_csv('text_length_4.csv', index=False)\n",
    "df_filtered_5.to_csv('text_length_5.csv', index=False)"
   ]
  },
  {
   "cell_type": "code",
   "execution_count": 62,
   "metadata": {},
   "outputs": [],
   "source": [
    "# List of words to keep\n",
    "words_to_keep = [\"wow\", \"sad\", \"wtf\", \"rip\",\"damn\",\"nice\",\"fuck\",\"Booo\",\"awful\",\"trash\",\"toxic\",\"good\",\"smart\",\"fine\",\"sweet\",\"error\",\"fraud\",\"why??\",\"fail.\",\"nice.\",\"good\"]"
   ]
  },
  {
   "cell_type": "code",
   "execution_count": 63,
   "metadata": {},
   "outputs": [],
   "source": [
    "condition = ~((df['text'].str.len() == 3) & (~df['text'].isin(words_to_keep)))\n",
    "df_filtered = df[condition]"
   ]
  },
  {
   "cell_type": "code",
   "execution_count": 64,
   "metadata": {},
   "outputs": [],
   "source": [
    "condition = ~((df_filtered['text'].str.len() == 4) & (~df_filtered['text'].isin(words_to_keep)))\n",
    "df_filtered = df_filtered[condition]"
   ]
  },
  {
   "cell_type": "code",
   "execution_count": 65,
   "metadata": {},
   "outputs": [],
   "source": [
    "condition = ~((df_filtered['text'].str.len() == 5) & (~df_filtered['text'].isin(words_to_keep)))\n",
    "df_filtered = df_filtered[condition]"
   ]
  },
  {
   "cell_type": "code",
   "execution_count": 66,
   "metadata": {},
   "outputs": [
    {
     "data": {
      "text/html": [
       "<div>\n",
       "<style scoped>\n",
       "    .dataframe tbody tr th:only-of-type {\n",
       "        vertical-align: middle;\n",
       "    }\n",
       "\n",
       "    .dataframe tbody tr th {\n",
       "        vertical-align: top;\n",
       "    }\n",
       "\n",
       "    .dataframe thead th {\n",
       "        text-align: right;\n",
       "    }\n",
       "</style>\n",
       "<table border=\"1\" class=\"dataframe\">\n",
       "  <thead>\n",
       "    <tr style=\"text-align: right;\">\n",
       "      <th></th>\n",
       "      <th>text</th>\n",
       "      <th>sentiment</th>\n",
       "      <th>ind</th>\n",
       "      <th>sentiment_text</th>\n",
       "      <th>text_length</th>\n",
       "    </tr>\n",
       "  </thead>\n",
       "  <tbody>\n",
       "    <tr>\n",
       "      <th>66368</th>\n",
       "      <td>wtf</td>\n",
       "      <td>1</td>\n",
       "      <td>train</td>\n",
       "      <td>Negative</td>\n",
       "      <td>3</td>\n",
       "    </tr>\n",
       "    <tr>\n",
       "      <th>26552</th>\n",
       "      <td>wow</td>\n",
       "      <td>0</td>\n",
       "      <td>train</td>\n",
       "      <td>Positive</td>\n",
       "      <td>3</td>\n",
       "    </tr>\n",
       "    <tr>\n",
       "      <th>16223</th>\n",
       "      <td>sad</td>\n",
       "      <td>1</td>\n",
       "      <td>train</td>\n",
       "      <td>Negative</td>\n",
       "      <td>3</td>\n",
       "    </tr>\n",
       "    <tr>\n",
       "      <th>16529</th>\n",
       "      <td>rip</td>\n",
       "      <td>1</td>\n",
       "      <td>train</td>\n",
       "      <td>Negative</td>\n",
       "      <td>3</td>\n",
       "    </tr>\n",
       "  </tbody>\n",
       "</table>\n",
       "</div>"
      ],
      "text/plain": [
       "      text  sentiment    ind sentiment_text  text_length\n",
       "66368  wtf          1  train       Negative            3\n",
       "26552  wow          0  train       Positive            3\n",
       "16223  sad          1  train       Negative            3\n",
       "16529  rip          1  train       Negative            3"
      ]
     },
     "execution_count": 66,
     "metadata": {},
     "output_type": "execute_result"
    }
   ],
   "source": [
    "#df_filtered[df_filtered['text'].str.len() == 3]\n",
    "filter_by_length(df_filtered,3)"
   ]
  },
  {
   "cell_type": "code",
   "execution_count": 67,
   "metadata": {},
   "outputs": [
    {
     "data": {
      "text/html": [
       "<div>\n",
       "<style scoped>\n",
       "    .dataframe tbody tr th:only-of-type {\n",
       "        vertical-align: middle;\n",
       "    }\n",
       "\n",
       "    .dataframe tbody tr th {\n",
       "        vertical-align: top;\n",
       "    }\n",
       "\n",
       "    .dataframe thead th {\n",
       "        text-align: right;\n",
       "    }\n",
       "</style>\n",
       "<table border=\"1\" class=\"dataframe\">\n",
       "  <thead>\n",
       "    <tr style=\"text-align: right;\">\n",
       "      <th></th>\n",
       "      <th>text</th>\n",
       "      <th>sentiment</th>\n",
       "      <th>ind</th>\n",
       "      <th>sentiment_text</th>\n",
       "      <th>text_length</th>\n",
       "    </tr>\n",
       "  </thead>\n",
       "  <tbody>\n",
       "    <tr>\n",
       "      <th>22490</th>\n",
       "      <td>nice</td>\n",
       "      <td>0</td>\n",
       "      <td>train</td>\n",
       "      <td>Positive</td>\n",
       "      <td>4</td>\n",
       "    </tr>\n",
       "    <tr>\n",
       "      <th>18002</th>\n",
       "      <td>damn</td>\n",
       "      <td>1</td>\n",
       "      <td>train</td>\n",
       "      <td>Negative</td>\n",
       "      <td>4</td>\n",
       "    </tr>\n",
       "    <tr>\n",
       "      <th>13439</th>\n",
       "      <td>fuck</td>\n",
       "      <td>1</td>\n",
       "      <td>train</td>\n",
       "      <td>Negative</td>\n",
       "      <td>4</td>\n",
       "    </tr>\n",
       "  </tbody>\n",
       "</table>\n",
       "</div>"
      ],
      "text/plain": [
       "       text  sentiment    ind sentiment_text  text_length\n",
       "22490  nice          0  train       Positive            4\n",
       "18002  damn          1  train       Negative            4\n",
       "13439  fuck          1  train       Negative            4"
      ]
     },
     "execution_count": 67,
     "metadata": {},
     "output_type": "execute_result"
    }
   ],
   "source": [
    "filter_by_length(df_filtered,4)"
   ]
  },
  {
   "cell_type": "code",
   "execution_count": 68,
   "metadata": {},
   "outputs": [
    {
     "data": {
      "text/html": [
       "<div>\n",
       "<style scoped>\n",
       "    .dataframe tbody tr th:only-of-type {\n",
       "        vertical-align: middle;\n",
       "    }\n",
       "\n",
       "    .dataframe tbody tr th {\n",
       "        vertical-align: top;\n",
       "    }\n",
       "\n",
       "    .dataframe thead th {\n",
       "        text-align: right;\n",
       "    }\n",
       "</style>\n",
       "<table border=\"1\" class=\"dataframe\">\n",
       "  <thead>\n",
       "    <tr style=\"text-align: right;\">\n",
       "      <th></th>\n",
       "      <th>text</th>\n",
       "      <th>sentiment</th>\n",
       "      <th>ind</th>\n",
       "      <th>sentiment_text</th>\n",
       "      <th>text_length</th>\n",
       "    </tr>\n",
       "  </thead>\n",
       "  <tbody>\n",
       "    <tr>\n",
       "      <th>66559</th>\n",
       "      <td>awful</td>\n",
       "      <td>1</td>\n",
       "      <td>train</td>\n",
       "      <td>Negative</td>\n",
       "      <td>5</td>\n",
       "    </tr>\n",
       "    <tr>\n",
       "      <th>12692</th>\n",
       "      <td>trash</td>\n",
       "      <td>1</td>\n",
       "      <td>train</td>\n",
       "      <td>Negative</td>\n",
       "      <td>5</td>\n",
       "    </tr>\n",
       "    <tr>\n",
       "      <th>15203</th>\n",
       "      <td>toxic</td>\n",
       "      <td>1</td>\n",
       "      <td>train</td>\n",
       "      <td>Negative</td>\n",
       "      <td>5</td>\n",
       "    </tr>\n",
       "    <tr>\n",
       "      <th>54206</th>\n",
       "      <td>smart</td>\n",
       "      <td>0</td>\n",
       "      <td>train</td>\n",
       "      <td>Positive</td>\n",
       "      <td>5</td>\n",
       "    </tr>\n",
       "    <tr>\n",
       "      <th>992</th>\n",
       "      <td>sweet</td>\n",
       "      <td>0</td>\n",
       "      <td>train</td>\n",
       "      <td>Positive</td>\n",
       "      <td>5</td>\n",
       "    </tr>\n",
       "    <tr>\n",
       "      <th>5521</th>\n",
       "      <td>error</td>\n",
       "      <td>1</td>\n",
       "      <td>train</td>\n",
       "      <td>Negative</td>\n",
       "      <td>5</td>\n",
       "    </tr>\n",
       "    <tr>\n",
       "      <th>50400</th>\n",
       "      <td>fraud</td>\n",
       "      <td>1</td>\n",
       "      <td>train</td>\n",
       "      <td>Negative</td>\n",
       "      <td>5</td>\n",
       "    </tr>\n",
       "    <tr>\n",
       "      <th>41749</th>\n",
       "      <td>fail.</td>\n",
       "      <td>1</td>\n",
       "      <td>train</td>\n",
       "      <td>Negative</td>\n",
       "      <td>5</td>\n",
       "    </tr>\n",
       "    <tr>\n",
       "      <th>1981</th>\n",
       "      <td>nice.</td>\n",
       "      <td>0</td>\n",
       "      <td>train</td>\n",
       "      <td>Positive</td>\n",
       "      <td>5</td>\n",
       "    </tr>\n",
       "    <tr>\n",
       "      <th>49028</th>\n",
       "      <td>why??</td>\n",
       "      <td>1</td>\n",
       "      <td>train</td>\n",
       "      <td>Negative</td>\n",
       "      <td>5</td>\n",
       "    </tr>\n",
       "  </tbody>\n",
       "</table>\n",
       "</div>"
      ],
      "text/plain": [
       "        text  sentiment    ind sentiment_text  text_length\n",
       "66559  awful          1  train       Negative            5\n",
       "12692  trash          1  train       Negative            5\n",
       "15203  toxic          1  train       Negative            5\n",
       "54206  smart          0  train       Positive            5\n",
       "992    sweet          0  train       Positive            5\n",
       "5521   error          1  train       Negative            5\n",
       "50400  fraud          1  train       Negative            5\n",
       "41749  fail.          1  train       Negative            5\n",
       "1981   nice.          0  train       Positive            5\n",
       "49028  why??          1  train       Negative            5"
      ]
     },
     "execution_count": 68,
     "metadata": {},
     "output_type": "execute_result"
    }
   ],
   "source": [
    "filter_by_length(df_filtered,5)"
   ]
  },
  {
   "cell_type": "code",
   "execution_count": 69,
   "metadata": {},
   "outputs": [],
   "source": [
    "df = df_filtered"
   ]
  },
  {
   "cell_type": "code",
   "execution_count": 70,
   "metadata": {
    "colab": {
     "base_uri": "https://localhost:8080/",
     "height": 0
    },
    "id": "zqx-NNvHJ4go",
    "outputId": "3cdb8e2c-4a1d-47ba-ba79-25f0212fd2dd"
   },
   "outputs": [
    {
     "data": {
      "image/png": "[encoded data removed]",
      "text/plain": [
       "<Figure size 800x600 with 1 Axes>"
      ]
     },
     "metadata": {},
     "output_type": "display_data"
    }
   ],
   "source": [
    "plot_average_text_length_by_sentiment(df)"
   ]
  },
  {
   "cell_type": "code",
   "execution_count": 71,
   "metadata": {
    "colab": {
     "base_uri": "https://localhost:8080/",
     "height": 0
    },
    "id": "lWkrA506jM_F",
    "outputId": "be13ea62-4cee-4e96-fa6d-b87322c48d09"
   },
   "outputs": [
    {
     "data": {
      "image/png": "[encoded data removed]",
      "text/plain": [
       "<Figure size 600x600 with 1 Axes>"
      ]
     },
     "metadata": {},
     "output_type": "display_data"
    }
   ],
   "source": [
    "pie_sentiment_distribution1(df)"
   ]
  },
  {
   "cell_type": "markdown",
   "metadata": {
    "id": "I3qfD3tljRQC"
   },
   "source": [
    "The classes are still balanced, removing the outliers did not affect them"
   ]
  },
  {
   "cell_type": "code",
   "execution_count": 72,
   "metadata": {
    "colab": {
     "base_uri": "https://localhost:8080/",
     "height": 0
    },
    "id": "Lxu35JAIpQNE",
    "outputId": "d26bd1e3-c393-4f5b-f71e-dc415b28563a"
   },
   "outputs": [
    {
     "data": {
      "text/html": [
       "<div>\n",
       "<style scoped>\n",
       "    .dataframe tbody tr th:only-of-type {\n",
       "        vertical-align: middle;\n",
       "    }\n",
       "\n",
       "    .dataframe tbody tr th {\n",
       "        vertical-align: top;\n",
       "    }\n",
       "\n",
       "    .dataframe thead th {\n",
       "        text-align: right;\n",
       "    }\n",
       "</style>\n",
       "<table border=\"1\" class=\"dataframe\">\n",
       "  <thead>\n",
       "    <tr style=\"text-align: right;\">\n",
       "      <th></th>\n",
       "      <th>text</th>\n",
       "      <th>sentiment</th>\n",
       "      <th>ind</th>\n",
       "      <th>sentiment_text</th>\n",
       "      <th>text_length</th>\n",
       "    </tr>\n",
       "  </thead>\n",
       "  <tbody>\n",
       "    <tr>\n",
       "      <th>47729</th>\n",
       "      <td>hug it out, let the strong survive, the weak p...</td>\n",
       "      <td>0</td>\n",
       "      <td>train</td>\n",
       "      <td>Positive</td>\n",
       "      <td>230</td>\n",
       "    </tr>\n",
       "    <tr>\n",
       "      <th>6914</th>\n",
       "      <td>if there is anyone out there who has found and...</td>\n",
       "      <td>2</td>\n",
       "      <td>train</td>\n",
       "      <td>Neutral</td>\n",
       "      <td>230</td>\n",
       "    </tr>\n",
       "    <tr>\n",
       "      <th>64873</th>\n",
       "      <td>congrats to joke! finally consolidating that i...</td>\n",
       "      <td>0</td>\n",
       "      <td>train</td>\n",
       "      <td>Positive</td>\n",
       "      <td>230</td>\n",
       "    </tr>\n",
       "    <tr>\n",
       "      <th>45733</th>\n",
       "      <td>if you haven't used your cell phone for the la...</td>\n",
       "      <td>1</td>\n",
       "      <td>train</td>\n",
       "      <td>Negative</td>\n",
       "      <td>230</td>\n",
       "    </tr>\n",
       "    <tr>\n",
       "      <th>70657</th>\n",
       "      <td>@ ghostrecon @ ubisoft your game is broken, so...</td>\n",
       "      <td>1</td>\n",
       "      <td>train</td>\n",
       "      <td>Negative</td>\n",
       "      <td>230</td>\n",
       "    </tr>\n",
       "    <tr>\n",
       "      <th>37159</th>\n",
       "      <td>perhaps i am not the first to see this, but ma...</td>\n",
       "      <td>2</td>\n",
       "      <td>train</td>\n",
       "      <td>Neutral</td>\n",
       "      <td>230</td>\n",
       "    </tr>\n",
       "    <tr>\n",
       "      <th>24132</th>\n",
       "      <td>@ irina _ vukolova...... last night we saw oth...</td>\n",
       "      <td>0</td>\n",
       "      <td>train</td>\n",
       "      <td>Positive</td>\n",
       "      <td>230</td>\n",
       "    </tr>\n",
       "    <tr>\n",
       "      <th>6274</th>\n",
       "      <td>@nyxjacob thanks for entering grand&lt;unk&gt;.. rev...</td>\n",
       "      <td>2</td>\n",
       "      <td>train</td>\n",
       "      <td>Neutral</td>\n",
       "      <td>230</td>\n",
       "    </tr>\n",
       "    <tr>\n",
       "      <th>44756</th>\n",
       "      <td>tricia b., a recruiter at verizon, are proud o...</td>\n",
       "      <td>2</td>\n",
       "      <td>train</td>\n",
       "      <td>Neutral</td>\n",
       "      <td>230</td>\n",
       "    </tr>\n",
       "    <tr>\n",
       "      <th>53295</th>\n",
       "      <td>org i just realised red dead redemption turned...</td>\n",
       "      <td>0</td>\n",
       "      <td>train</td>\n",
       "      <td>Positive</td>\n",
       "      <td>230</td>\n",
       "    </tr>\n",
       "  </tbody>\n",
       "</table>\n",
       "</div>"
      ],
      "text/plain": [
       "                                                    text  sentiment    ind  \\\n",
       "47729  hug it out, let the strong survive, the weak p...          0  train   \n",
       "6914   if there is anyone out there who has found and...          2  train   \n",
       "64873  congrats to joke! finally consolidating that i...          0  train   \n",
       "45733  if you haven't used your cell phone for the la...          1  train   \n",
       "70657  @ ghostrecon @ ubisoft your game is broken, so...          1  train   \n",
       "37159  perhaps i am not the first to see this, but ma...          2  train   \n",
       "24132  @ irina _ vukolova...... last night we saw oth...          0  train   \n",
       "6274   @nyxjacob thanks for entering grand<unk>.. rev...          2  train   \n",
       "44756  tricia b., a recruiter at verizon, are proud o...          2  train   \n",
       "53295  org i just realised red dead redemption turned...          0  train   \n",
       "\n",
       "      sentiment_text  text_length  \n",
       "47729       Positive          230  \n",
       "6914         Neutral          230  \n",
       "64873       Positive          230  \n",
       "45733       Negative          230  \n",
       "70657       Negative          230  \n",
       "37159        Neutral          230  \n",
       "24132       Positive          230  \n",
       "6274         Neutral          230  \n",
       "44756        Neutral          230  \n",
       "53295       Positive          230  "
      ]
     },
     "execution_count": 72,
     "metadata": {},
     "output_type": "execute_result"
    }
   ],
   "source": [
    "df.tail(10)"
   ]
  },
  {
   "cell_type": "code",
   "execution_count": 73,
   "metadata": {},
   "outputs": [
    {
     "data": {
      "text/html": [
       "<div>\n",
       "<style scoped>\n",
       "    .dataframe tbody tr th:only-of-type {\n",
       "        vertical-align: middle;\n",
       "    }\n",
       "\n",
       "    .dataframe tbody tr th {\n",
       "        vertical-align: top;\n",
       "    }\n",
       "\n",
       "    .dataframe thead th {\n",
       "        text-align: right;\n",
       "    }\n",
       "</style>\n",
       "<table border=\"1\" class=\"dataframe\">\n",
       "  <thead>\n",
       "    <tr style=\"text-align: right;\">\n",
       "      <th></th>\n",
       "      <th>text</th>\n",
       "      <th>sentiment</th>\n",
       "      <th>ind</th>\n",
       "      <th>sentiment_text</th>\n",
       "      <th>text_length</th>\n",
       "    </tr>\n",
       "  </thead>\n",
       "  <tbody>\n",
       "    <tr>\n",
       "      <th>66368</th>\n",
       "      <td>wtf</td>\n",
       "      <td>1</td>\n",
       "      <td>train</td>\n",
       "      <td>Negative</td>\n",
       "      <td>3</td>\n",
       "    </tr>\n",
       "    <tr>\n",
       "      <th>26552</th>\n",
       "      <td>wow</td>\n",
       "      <td>0</td>\n",
       "      <td>train</td>\n",
       "      <td>Positive</td>\n",
       "      <td>3</td>\n",
       "    </tr>\n",
       "    <tr>\n",
       "      <th>16223</th>\n",
       "      <td>sad</td>\n",
       "      <td>1</td>\n",
       "      <td>train</td>\n",
       "      <td>Negative</td>\n",
       "      <td>3</td>\n",
       "    </tr>\n",
       "    <tr>\n",
       "      <th>16529</th>\n",
       "      <td>rip</td>\n",
       "      <td>1</td>\n",
       "      <td>train</td>\n",
       "      <td>Negative</td>\n",
       "      <td>3</td>\n",
       "    </tr>\n",
       "    <tr>\n",
       "      <th>22490</th>\n",
       "      <td>nice</td>\n",
       "      <td>0</td>\n",
       "      <td>train</td>\n",
       "      <td>Positive</td>\n",
       "      <td>4</td>\n",
       "    </tr>\n",
       "    <tr>\n",
       "      <th>18002</th>\n",
       "      <td>damn</td>\n",
       "      <td>1</td>\n",
       "      <td>train</td>\n",
       "      <td>Negative</td>\n",
       "      <td>4</td>\n",
       "    </tr>\n",
       "    <tr>\n",
       "      <th>13439</th>\n",
       "      <td>fuck</td>\n",
       "      <td>1</td>\n",
       "      <td>train</td>\n",
       "      <td>Negative</td>\n",
       "      <td>4</td>\n",
       "    </tr>\n",
       "    <tr>\n",
       "      <th>66559</th>\n",
       "      <td>awful</td>\n",
       "      <td>1</td>\n",
       "      <td>train</td>\n",
       "      <td>Negative</td>\n",
       "      <td>5</td>\n",
       "    </tr>\n",
       "    <tr>\n",
       "      <th>12692</th>\n",
       "      <td>trash</td>\n",
       "      <td>1</td>\n",
       "      <td>train</td>\n",
       "      <td>Negative</td>\n",
       "      <td>5</td>\n",
       "    </tr>\n",
       "    <tr>\n",
       "      <th>15203</th>\n",
       "      <td>toxic</td>\n",
       "      <td>1</td>\n",
       "      <td>train</td>\n",
       "      <td>Negative</td>\n",
       "      <td>5</td>\n",
       "    </tr>\n",
       "  </tbody>\n",
       "</table>\n",
       "</div>"
      ],
      "text/plain": [
       "        text  sentiment    ind sentiment_text  text_length\n",
       "66368    wtf          1  train       Negative            3\n",
       "26552    wow          0  train       Positive            3\n",
       "16223    sad          1  train       Negative            3\n",
       "16529    rip          1  train       Negative            3\n",
       "22490   nice          0  train       Positive            4\n",
       "18002   damn          1  train       Negative            4\n",
       "13439   fuck          1  train       Negative            4\n",
       "66559  awful          1  train       Negative            5\n",
       "12692  trash          1  train       Negative            5\n",
       "15203  toxic          1  train       Negative            5"
      ]
     },
     "execution_count": 73,
     "metadata": {},
     "output_type": "execute_result"
    }
   ],
   "source": [
    "df.head(10)"
   ]
  },
  {
   "cell_type": "markdown",
   "metadata": {
    "id": "uNozoGl4cQ9d"
   },
   "source": [
    "## Data Preprocessing\n",
    "We need to standardize and simplify the text data, which is crucial for effective natural language processing (NLP). The following steps need to be done:\n",
    "\n",
    "- Tokenizing: Breaks down text into individual words or tokens, making it easier for the model to process and learn from the text data.\n",
    "\n",
    "- Converting to Lowercase: Ensures consistency by treating words like \"Hello\" and \"hello\" as the same word, avoiding duplication in the model's v- ocabulary.\n",
    "\n",
    "- Removing Stop Words: Eliminates common words (e.g., \"the\", \"is\", \"in\") that usually don't contribute to the sentiment of the text, allowing the model to focus on more meaningful words.\n",
    "\n",
    "- Lemmatizing: Reduces words to their base or root form, which helps in consolidating different forms of the same word, so they are analyzed as a single item.\n",
    "\n",
    "Together, these preprocessing steps clean and refine the text data, leading to better model performance by focusing on the most relevant features of the text."
   ]
  },
  {
   "cell_type": "code",
   "execution_count": 74,
   "metadata": {
    "id": "bItlqvB9ceeo"
   },
   "outputs": [],
   "source": [
    "nlp = spacy.load('en_core_web_lg')"
   ]
  },
  {
   "cell_type": "code",
   "execution_count": 75,
   "metadata": {
    "id": "HEuxOA1ycgsN"
   },
   "outputs": [],
   "source": [
    "# Lemmatizes words and removes stop words.\n",
    "def lemmatize_and_remove_stopwords(text):\n",
    "    return \" \".join([token.lemma_ for token in nlp(text) if not token.is_stop])\n",
    "\n",
    "# Converts text to lowercase.\n",
    "def to_lowercase(text):\n",
    "    return text.lower()\n",
    "\n",
    "# Removes special characters from the text.\n",
    "def remove_special_characters(text):\n",
    "    # Keeping alphabets, numbers, basic punctuation, and whitespace\n",
    "    return re.sub('[^\\w\\s,.!?;:\\']', '', text)\n",
    "\n",
    "def remove_stopwords(text):\n",
    "    \"\"\"\n",
    "    Remove stopwords from a text.\n",
    "\n",
    "    Parameters:\n",
    "    text (str): Text to remove stopwords from.\n",
    "\n",
    "    Returns:\n",
    "    str: Text without stopwords.\n",
    "    \"\"\"\n",
    "    return \" \".join([token for token in text.split() if token not in nlp.Defaults.stop_words])\n",
    "\n",
    "def lemmatize_texts(texts):\n",
    "    \"\"\"\n",
    "    Lemmatize a batch of texts.\n",
    "\n",
    "    Parameters:\n",
    "    texts (list): A list of texts to lemmatize.\n",
    "\n",
    "    Returns:\n",
    "    list: A list of lemmatized texts.\n",
    "    \"\"\"\n",
    "    return [\" \".join([token.lemma_ for token in doc]) for doc in nlp.pipe(texts)]\n",
    "\n",
    "def preprocess_data(df, col, methods):\n",
    "    \"\"\"\n",
    "    Preprocesses the input text by applying a list of specified methods dynamically.\n",
    "\n",
    "    Parameters:\n",
    "    - df: A pandas DataFrame containing the text data.\n",
    "    - col: The name of the column in the DataFrame that contains the text.\n",
    "    - methods: A list of strings where each string is a method to apply on the text.\n",
    "\n",
    "    Returns:\n",
    "    - The DataFrame with the preprocessed text.\n",
    "    \"\"\"\n",
    "    for method_name in methods:\n",
    "        if method_name in globals():\n",
    "            df[col] = df[col].apply(globals()[method_name])\n",
    "        else:\n",
    "            raise ValueError(f\"The method {method_name} is not defined.\")\n",
    "    return df"
   ]
  },
  {
   "cell_type": "code",
   "execution_count": 76,
   "metadata": {
    "id": "aFE9DWOfcsod"
   },
   "outputs": [
    {
     "name": "stderr",
     "output_type": "stream",
     "text": [
      "C:\\Users\\Baba\\AppData\\Local\\Temp\\ipykernel_4616\\2245740796.py:6: SettingWithCopyWarning: \n",
      "A value is trying to be set on a copy of a slice from a DataFrame.\n",
      "Try using .loc[row_indexer,col_indexer] = value instead\n",
      "\n",
      "See the caveats in the documentation: https://pandas.pydata.org/pandas-docs/stable/user_guide/indexing.html#returning-a-view-versus-a-copy\n",
      "  df['text'] = df['text'].str.strip()\n"
     ]
    }
   ],
   "source": [
    "# Applying the preprocessing function to the dataframe\n",
    "col = 'text'\n",
    "methods_to_apply = ['to_lowercase', 'remove_special_characters', 'lemmatize_and_remove_stopwords']\n",
    "df = preprocess_data(df, col, methods_to_apply)\n",
    "df = df[df['text'] != '.']\n",
    "df['text'] = df['text'].str.strip()"
   ]
  },
  {
   "cell_type": "code",
   "execution_count": 77,
   "metadata": {
    "colab": {
     "base_uri": "https://localhost:8080/",
     "height": 363
    },
    "id": "rlwzTnPCdFgv",
    "outputId": "7da22b85-3607-43c2-e5a3-a3595b1520ae"
   },
   "outputs": [
    {
     "data": {
      "text/html": [
       "<div>\n",
       "<style scoped>\n",
       "    .dataframe tbody tr th:only-of-type {\n",
       "        vertical-align: middle;\n",
       "    }\n",
       "\n",
       "    .dataframe tbody tr th {\n",
       "        vertical-align: top;\n",
       "    }\n",
       "\n",
       "    .dataframe thead th {\n",
       "        text-align: right;\n",
       "    }\n",
       "</style>\n",
       "<table border=\"1\" class=\"dataframe\">\n",
       "  <thead>\n",
       "    <tr style=\"text-align: right;\">\n",
       "      <th></th>\n",
       "      <th>text</th>\n",
       "      <th>sentiment</th>\n",
       "      <th>ind</th>\n",
       "      <th>sentiment_text</th>\n",
       "      <th>text_length</th>\n",
       "    </tr>\n",
       "  </thead>\n",
       "  <tbody>\n",
       "    <tr>\n",
       "      <th>66368</th>\n",
       "      <td>wtf</td>\n",
       "      <td>1</td>\n",
       "      <td>train</td>\n",
       "      <td>Negative</td>\n",
       "      <td>3</td>\n",
       "    </tr>\n",
       "    <tr>\n",
       "      <th>26552</th>\n",
       "      <td>wow</td>\n",
       "      <td>0</td>\n",
       "      <td>train</td>\n",
       "      <td>Positive</td>\n",
       "      <td>3</td>\n",
       "    </tr>\n",
       "    <tr>\n",
       "      <th>16223</th>\n",
       "      <td>sad</td>\n",
       "      <td>1</td>\n",
       "      <td>train</td>\n",
       "      <td>Negative</td>\n",
       "      <td>3</td>\n",
       "    </tr>\n",
       "    <tr>\n",
       "      <th>16529</th>\n",
       "      <td>rip</td>\n",
       "      <td>1</td>\n",
       "      <td>train</td>\n",
       "      <td>Negative</td>\n",
       "      <td>3</td>\n",
       "    </tr>\n",
       "    <tr>\n",
       "      <th>22490</th>\n",
       "      <td>nice</td>\n",
       "      <td>0</td>\n",
       "      <td>train</td>\n",
       "      <td>Positive</td>\n",
       "      <td>4</td>\n",
       "    </tr>\n",
       "    <tr>\n",
       "      <th>18002</th>\n",
       "      <td>damn</td>\n",
       "      <td>1</td>\n",
       "      <td>train</td>\n",
       "      <td>Negative</td>\n",
       "      <td>4</td>\n",
       "    </tr>\n",
       "    <tr>\n",
       "      <th>13439</th>\n",
       "      <td>fuck</td>\n",
       "      <td>1</td>\n",
       "      <td>train</td>\n",
       "      <td>Negative</td>\n",
       "      <td>4</td>\n",
       "    </tr>\n",
       "    <tr>\n",
       "      <th>66559</th>\n",
       "      <td>awful</td>\n",
       "      <td>1</td>\n",
       "      <td>train</td>\n",
       "      <td>Negative</td>\n",
       "      <td>5</td>\n",
       "    </tr>\n",
       "    <tr>\n",
       "      <th>12692</th>\n",
       "      <td>trash</td>\n",
       "      <td>1</td>\n",
       "      <td>train</td>\n",
       "      <td>Negative</td>\n",
       "      <td>5</td>\n",
       "    </tr>\n",
       "    <tr>\n",
       "      <th>15203</th>\n",
       "      <td>toxic</td>\n",
       "      <td>1</td>\n",
       "      <td>train</td>\n",
       "      <td>Negative</td>\n",
       "      <td>5</td>\n",
       "    </tr>\n",
       "  </tbody>\n",
       "</table>\n",
       "</div>"
      ],
      "text/plain": [
       "        text  sentiment    ind sentiment_text  text_length\n",
       "66368    wtf          1  train       Negative            3\n",
       "26552    wow          0  train       Positive            3\n",
       "16223    sad          1  train       Negative            3\n",
       "16529    rip          1  train       Negative            3\n",
       "22490   nice          0  train       Positive            4\n",
       "18002   damn          1  train       Negative            4\n",
       "13439   fuck          1  train       Negative            4\n",
       "66559  awful          1  train       Negative            5\n",
       "12692  trash          1  train       Negative            5\n",
       "15203  toxic          1  train       Negative            5"
      ]
     },
     "execution_count": 77,
     "metadata": {},
     "output_type": "execute_result"
    }
   ],
   "source": [
    "df.head(10)"
   ]
  },
  {
   "cell_type": "code",
   "execution_count": 78,
   "metadata": {
    "colab": {
     "base_uri": "https://localhost:8080/",
     "height": 363
    },
    "id": "qT2gnEUWuG1O",
    "outputId": "63ed88ef-541e-423c-c341-472e0f9b5f2b"
   },
   "outputs": [
    {
     "data": {
      "text/html": [
       "<div>\n",
       "<style scoped>\n",
       "    .dataframe tbody tr th:only-of-type {\n",
       "        vertical-align: middle;\n",
       "    }\n",
       "\n",
       "    .dataframe tbody tr th {\n",
       "        vertical-align: top;\n",
       "    }\n",
       "\n",
       "    .dataframe thead th {\n",
       "        text-align: right;\n",
       "    }\n",
       "</style>\n",
       "<table border=\"1\" class=\"dataframe\">\n",
       "  <thead>\n",
       "    <tr style=\"text-align: right;\">\n",
       "      <th></th>\n",
       "      <th>text</th>\n",
       "      <th>sentiment</th>\n",
       "      <th>ind</th>\n",
       "      <th>sentiment_text</th>\n",
       "      <th>text_length</th>\n",
       "    </tr>\n",
       "  </thead>\n",
       "  <tbody>\n",
       "    <tr>\n",
       "      <th>47729</th>\n",
       "      <td>hug , let strong survive , weak perish sound c...</td>\n",
       "      <td>0</td>\n",
       "      <td>train</td>\n",
       "      <td>Positive</td>\n",
       "      <td>230</td>\n",
       "    </tr>\n",
       "    <tr>\n",
       "      <th>6914</th>\n",
       "      <td>find purchase book , feel able rate thenor rev...</td>\n",
       "      <td>2</td>\n",
       "      <td>train</td>\n",
       "      <td>Neutral</td>\n",
       "      <td>230</td>\n",
       "    </tr>\n",
       "    <tr>\n",
       "      <th>64873</th>\n",
       "      <td>congrat joke ! finally consolidate 100 year sk...</td>\n",
       "      <td>0</td>\n",
       "      <td>train</td>\n",
       "      <td>Positive</td>\n",
       "      <td>230</td>\n",
       "    </tr>\n",
       "    <tr>\n",
       "      <th>45733</th>\n",
       "      <td>cell phone couple hour , american carriers ver...</td>\n",
       "      <td>1</td>\n",
       "      <td>train</td>\n",
       "      <td>Negative</td>\n",
       "      <td>230</td>\n",
       "    </tr>\n",
       "    <tr>\n",
       "      <th>70657</th>\n",
       "      <td>ghostrecon   ubisoft game break , frame lean c...</td>\n",
       "      <td>1</td>\n",
       "      <td>train</td>\n",
       "      <td>Negative</td>\n",
       "      <td>230</td>\n",
       "    </tr>\n",
       "    <tr>\n",
       "      <th>37159</th>\n",
       "      <td>, macos _ _ developer make internet work decad...</td>\n",
       "      <td>2</td>\n",
       "      <td>train</td>\n",
       "      <td>Neutral</td>\n",
       "      <td>230</td>\n",
       "    </tr>\n",
       "    <tr>\n",
       "      <th>24132</th>\n",
       "      <td>irina _ vukolova ...... night see place kiev ,...</td>\n",
       "      <td>0</td>\n",
       "      <td>train</td>\n",
       "      <td>Positive</td>\n",
       "      <td>230</td>\n",
       "    </tr>\n",
       "    <tr>\n",
       "      <th>6274</th>\n",
       "      <td>nyxjacob thank enter grandunk .. review video ...</td>\n",
       "      <td>2</td>\n",
       "      <td>train</td>\n",
       "      <td>Neutral</td>\n",
       "      <td>230</td>\n",
       "    </tr>\n",
       "    <tr>\n",
       "      <th>44756</th>\n",
       "      <td>tricia b. , recruiter verizon , proud voluntee...</td>\n",
       "      <td>2</td>\n",
       "      <td>train</td>\n",
       "      <td>Neutral</td>\n",
       "      <td>230</td>\n",
       "    </tr>\n",
       "    <tr>\n",
       "      <th>53295</th>\n",
       "      <td>org realise red dead redemption turn 10 year ....</td>\n",
       "      <td>0</td>\n",
       "      <td>train</td>\n",
       "      <td>Positive</td>\n",
       "      <td>230</td>\n",
       "    </tr>\n",
       "  </tbody>\n",
       "</table>\n",
       "</div>"
      ],
      "text/plain": [
       "                                                    text  sentiment    ind  \\\n",
       "47729  hug , let strong survive , weak perish sound c...          0  train   \n",
       "6914   find purchase book , feel able rate thenor rev...          2  train   \n",
       "64873  congrat joke ! finally consolidate 100 year sk...          0  train   \n",
       "45733  cell phone couple hour , american carriers ver...          1  train   \n",
       "70657  ghostrecon   ubisoft game break , frame lean c...          1  train   \n",
       "37159  , macos _ _ developer make internet work decad...          2  train   \n",
       "24132  irina _ vukolova ...... night see place kiev ,...          0  train   \n",
       "6274   nyxjacob thank enter grandunk .. review video ...          2  train   \n",
       "44756  tricia b. , recruiter verizon , proud voluntee...          2  train   \n",
       "53295  org realise red dead redemption turn 10 year ....          0  train   \n",
       "\n",
       "      sentiment_text  text_length  \n",
       "47729       Positive          230  \n",
       "6914         Neutral          230  \n",
       "64873       Positive          230  \n",
       "45733       Negative          230  \n",
       "70657       Negative          230  \n",
       "37159        Neutral          230  \n",
       "24132       Positive          230  \n",
       "6274         Neutral          230  \n",
       "44756        Neutral          230  \n",
       "53295       Positive          230  "
      ]
     },
     "execution_count": 78,
     "metadata": {},
     "output_type": "execute_result"
    }
   ],
   "source": [
    "df.tail(10)"
   ]
  },
  {
   "cell_type": "code",
   "execution_count": 79,
   "metadata": {},
   "outputs": [],
   "source": [
    "# save the dataset for later use\n",
    "df.to_csv('df.csv',index=False)"
   ]
  },
  {
   "cell_type": "markdown",
   "metadata": {},
   "source": [
    "## Model Building"
   ]
  },
  {
   "cell_type": "markdown",
   "metadata": {},
   "source": [
    "### LSTM\n",
    "Long Short-Term Memory (LSTM) networks are particularly suited for semantic analysis due to their ability to process and make predictions based on long sequences of data. Unlike traditional neural networks, LSTMs have a unique structure that allows them to retain information over long periods, making them ideal for understanding context and the meaning of words in longer text passages."
   ]
  },
  {
   "cell_type": "markdown",
   "metadata": {
    "id": "XACSLIjvc_0b"
   },
   "source": [
    "#### Tokenization and Padding\n",
    "Tokenize and pad sequences to prepare text data for the model. We need to perform the following two key operations on the text data:\n",
    "\n",
    "- Tokenization: It processes the text by converting each word into a unique integer based on its frequency in the dataset, while only considering the top max_features most frequent words. This step is essential for preparing the text for numerical processing by machine learning algorithms.\n",
    "\n",
    "- Padding: After tokenization, it ensures that all sequences (now lists of integers) have the same length by adding zeros to shorter sequences. This uniformity is crucial for batch processing in neural networks, as they require inputs of a consistent size."
   ]
  },
  {
   "cell_type": "code",
   "execution_count": 80,
   "metadata": {
    "id": "EEWWIrVydM5j"
   },
   "outputs": [],
   "source": [
    "max_features = 3000\n",
    "# Initializing the tokenizer with a specific number of tokens to consider based on word frequency\n",
    "tokenizer = Tokenizer(num_words=max_features, split=' ')"
   ]
  },
  {
   "cell_type": "code",
   "execution_count": 81,
   "metadata": {
    "id": "KChj-aFEdR-9"
   },
   "outputs": [],
   "source": [
    " # Fitting the tokenizer on the text data\n",
    "tokenizer.fit_on_texts(df[col].values)"
   ]
  },
  {
   "cell_type": "code",
   "execution_count": 82,
   "metadata": {
    "id": "gm99Q-jadb9f"
   },
   "outputs": [],
   "source": [
    "def get_top_words_dataframe(tokenizer, top_n=10):\n",
    "    \"\"\"\n",
    "    Create a DataFrame containing the top `n` words, their indices, and frequencies from the tokenizer.\n",
    "\n",
    "    Parameters:\n",
    "    - tokenizer: The fitted Keras Tokenizer object.\n",
    "    - top_n: The number of top words to include in the DataFrame.\n",
    "\n",
    "    Returns:\n",
    "    - A DataFrame with the top words, their indices, and frequencies.\n",
    "    \"\"\"\n",
    "    # Ensure top_n is a positive integer\n",
    "    if top_n < 1:\n",
    "        raise ValueError(\"top_n must be a positive integer.\")\n",
    "\n",
    "    # Get word counts and indices\n",
    "    word_counts = tokenizer.word_counts\n",
    "    word_index = tokenizer.word_index\n",
    "\n",
    "    # Sort words by frequency in descending order\n",
    "    sorted_words = sorted(word_counts.items(), key=lambda x: x[1], reverse=True)\n",
    "\n",
    "    # Slice the top `n` words\n",
    "    top_words = sorted_words[:top_n]\n",
    "\n",
    "    # Create lists to populate the DataFrame\n",
    "    words = []\n",
    "    indices = []\n",
    "    frequencies = []\n",
    "\n",
    "    # Populate the lists with word data\n",
    "    for word, count in top_words:\n",
    "        words.append(word)\n",
    "        indices.append(word_index[word])\n",
    "        frequencies.append(count)\n",
    "\n",
    "    # Create the DataFrame\n",
    "    df_top_words = pd.DataFrame({\n",
    "        'Word': words,\n",
    "        'Index': indices,\n",
    "        'Frequency': frequencies\n",
    "    })\n",
    "\n",
    "    return df_top_words"
   ]
  },
  {
   "cell_type": "code",
   "execution_count": 83,
   "metadata": {
    "colab": {
     "base_uri": "https://localhost:8080/",
     "height": 677
    },
    "id": "L5osCPnheAyu",
    "outputId": "58b93069-3876-43c2-9a3e-a5edb9ecfd2a"
   },
   "outputs": [
    {
     "data": {
      "text/html": [
       "<div>\n",
       "<style scoped>\n",
       "    .dataframe tbody tr th:only-of-type {\n",
       "        vertical-align: middle;\n",
       "    }\n",
       "\n",
       "    .dataframe tbody tr th {\n",
       "        vertical-align: top;\n",
       "    }\n",
       "\n",
       "    .dataframe thead th {\n",
       "        text-align: right;\n",
       "    }\n",
       "</style>\n",
       "<table border=\"1\" class=\"dataframe\">\n",
       "  <thead>\n",
       "    <tr style=\"text-align: right;\">\n",
       "      <th></th>\n",
       "      <th>Word</th>\n",
       "      <th>Index</th>\n",
       "      <th>Frequency</th>\n",
       "    </tr>\n",
       "  </thead>\n",
       "  <tbody>\n",
       "    <tr>\n",
       "      <th>0</th>\n",
       "      <td>game</td>\n",
       "      <td>1</td>\n",
       "      <td>6670</td>\n",
       "    </tr>\n",
       "    <tr>\n",
       "      <th>1</th>\n",
       "      <td>play</td>\n",
       "      <td>2</td>\n",
       "      <td>4379</td>\n",
       "    </tr>\n",
       "    <tr>\n",
       "      <th>2</th>\n",
       "      <td>good</td>\n",
       "      <td>3</td>\n",
       "      <td>3755</td>\n",
       "    </tr>\n",
       "    <tr>\n",
       "      <th>3</th>\n",
       "      <td>com</td>\n",
       "      <td>4</td>\n",
       "      <td>3121</td>\n",
       "    </tr>\n",
       "    <tr>\n",
       "      <th>4</th>\n",
       "      <td>like</td>\n",
       "      <td>5</td>\n",
       "      <td>3002</td>\n",
       "    </tr>\n",
       "    <tr>\n",
       "      <th>5</th>\n",
       "      <td>pic</td>\n",
       "      <td>6</td>\n",
       "      <td>2852</td>\n",
       "    </tr>\n",
       "    <tr>\n",
       "      <th>6</th>\n",
       "      <td>2</td>\n",
       "      <td>7</td>\n",
       "      <td>2716</td>\n",
       "    </tr>\n",
       "    <tr>\n",
       "      <th>7</th>\n",
       "      <td>twitter</td>\n",
       "      <td>8</td>\n",
       "      <td>2659</td>\n",
       "    </tr>\n",
       "    <tr>\n",
       "      <th>8</th>\n",
       "      <td>get</td>\n",
       "      <td>9</td>\n",
       "      <td>2581</td>\n",
       "    </tr>\n",
       "    <tr>\n",
       "      <th>9</th>\n",
       "      <td>love</td>\n",
       "      <td>10</td>\n",
       "      <td>2305</td>\n",
       "    </tr>\n",
       "    <tr>\n",
       "      <th>10</th>\n",
       "      <td>johnson</td>\n",
       "      <td>11</td>\n",
       "      <td>2253</td>\n",
       "    </tr>\n",
       "    <tr>\n",
       "      <th>11</th>\n",
       "      <td>go</td>\n",
       "      <td>12</td>\n",
       "      <td>2220</td>\n",
       "    </tr>\n",
       "    <tr>\n",
       "      <th>12</th>\n",
       "      <td>new</td>\n",
       "      <td>13</td>\n",
       "      <td>2177</td>\n",
       "    </tr>\n",
       "    <tr>\n",
       "      <th>13</th>\n",
       "      <td>not</td>\n",
       "      <td>14</td>\n",
       "      <td>2175</td>\n",
       "    </tr>\n",
       "    <tr>\n",
       "      <th>14</th>\n",
       "      <td>t</td>\n",
       "      <td>15</td>\n",
       "      <td>2111</td>\n",
       "    </tr>\n",
       "    <tr>\n",
       "      <th>15</th>\n",
       "      <td>fuck</td>\n",
       "      <td>16</td>\n",
       "      <td>2000</td>\n",
       "    </tr>\n",
       "    <tr>\n",
       "      <th>16</th>\n",
       "      <td>time</td>\n",
       "      <td>17</td>\n",
       "      <td>1962</td>\n",
       "    </tr>\n",
       "    <tr>\n",
       "      <th>17</th>\n",
       "      <td>look</td>\n",
       "      <td>18</td>\n",
       "      <td>1954</td>\n",
       "    </tr>\n",
       "    <tr>\n",
       "      <th>18</th>\n",
       "      <td>shit</td>\n",
       "      <td>19</td>\n",
       "      <td>1904</td>\n",
       "    </tr>\n",
       "    <tr>\n",
       "      <th>19</th>\n",
       "      <td>m</td>\n",
       "      <td>20</td>\n",
       "      <td>1834</td>\n",
       "    </tr>\n",
       "  </tbody>\n",
       "</table>\n",
       "</div>"
      ],
      "text/plain": [
       "       Word  Index  Frequency\n",
       "0      game      1       6670\n",
       "1      play      2       4379\n",
       "2      good      3       3755\n",
       "3       com      4       3121\n",
       "4      like      5       3002\n",
       "5       pic      6       2852\n",
       "6         2      7       2716\n",
       "7   twitter      8       2659\n",
       "8       get      9       2581\n",
       "9      love     10       2305\n",
       "10  johnson     11       2253\n",
       "11       go     12       2220\n",
       "12      new     13       2177\n",
       "13      not     14       2175\n",
       "14        t     15       2111\n",
       "15     fuck     16       2000\n",
       "16     time     17       1962\n",
       "17     look     18       1954\n",
       "18     shit     19       1904\n",
       "19        m     20       1834"
      ]
     },
     "execution_count": 83,
     "metadata": {},
     "output_type": "execute_result"
    }
   ],
   "source": [
    "n =20\n",
    "top_words_df = get_top_words_dataframe(tokenizer, top_n=n)\n",
    "top_words_df.head(n)"
   ]
  },
  {
   "cell_type": "markdown",
   "metadata": {
    "id": "0MeOx6nBeFEz"
   },
   "source": [
    "Splits the features (X) and labels (Y) into train and test subsets."
   ]
  },
  {
   "cell_type": "code",
   "execution_count": 84,
   "metadata": {},
   "outputs": [],
   "source": [
    "# Split the data into training and validation sets\n",
    "df_train, df_val = train_test_split(df, test_size=0.2)"
   ]
  },
  {
   "cell_type": "code",
   "execution_count": 85,
   "metadata": {
    "colab": {
     "base_uri": "https://localhost:8080/"
    },
    "id": "h8JynmAMeSrg",
    "outputId": "b08fc690-6113-4b41-d6cf-9b7fc5ad965f"
   },
   "outputs": [
    {
     "name": "stdout",
     "output_type": "stream",
     "text": [
      "train Shape: (40617, 5)\n",
      "validation Shape: (10155, 5)\n"
     ]
    }
   ],
   "source": [
    "print('train Shape:',df_train.shape)\n",
    "print('validation Shape:',df_val.shape)"
   ]
  },
  {
   "cell_type": "code",
   "execution_count": 86,
   "metadata": {},
   "outputs": [
    {
     "data": {
      "image/png": "[encoded data removed]",
      "text/plain": [
       "<Figure size 800x600 with 1 Axes>"
      ]
     },
     "metadata": {},
     "output_type": "display_data"
    }
   ],
   "source": [
    "plot_average_text_length_by_sentiment(df_train)"
   ]
  },
  {
   "cell_type": "code",
   "execution_count": 87,
   "metadata": {},
   "outputs": [
    {
     "data": {
      "image/png": "[encoded data removed]",
      "text/plain": [
       "<Figure size 800x600 with 1 Axes>"
      ]
     },
     "metadata": {},
     "output_type": "display_data"
    }
   ],
   "source": [
    "plot_average_text_length_by_sentiment(df_val)"
   ]
  },
  {
   "cell_type": "code",
   "execution_count": 88,
   "metadata": {},
   "outputs": [
    {
     "data": {
      "image/png": "[encoded data removed]",
      "text/plain": [
       "<Figure size 800x600 with 1 Axes>"
      ]
     },
     "metadata": {},
     "output_type": "display_data"
    }
   ],
   "source": [
    "histplot_text_length_distribution(df_train)"
   ]
  },
  {
   "cell_type": "code",
   "execution_count": 89,
   "metadata": {},
   "outputs": [
    {
     "data": {
      "image/png": "[encoded data removed]",
      "text/plain": [
       "<Figure size 800x600 with 1 Axes>"
      ]
     },
     "metadata": {},
     "output_type": "display_data"
    }
   ],
   "source": [
    "histplot_text_length_distribution(df_val)"
   ]
  },
  {
   "cell_type": "code",
   "execution_count": 90,
   "metadata": {
    "id": "mjS25p1QeVZv"
   },
   "outputs": [],
   "source": [
    "def pad(tokenizer,df, col):\n",
    "    \"\"\"\n",
    "    This function takes as input a dataframe and a column name.\n",
    "    It pads the text data in the specified column of the dataframe.\n",
    "\n",
    "    Parameters:\n",
    "    - df: pandas DataFrame containing the text data.\n",
    "    - col: string, the name of the column in the dataframe containing the text data.\n",
    "\n",
    "    Returns:\n",
    "    - X: numpy array, containing the tokenized and padded text data.\n",
    "    \"\"\"\n",
    "\n",
    "    # Transforming the text data to sequences of integers\n",
    "    X = tokenizer.texts_to_sequences(df[col].values)\n",
    "\n",
    "    # Padding the sequences to ensure consistent length\n",
    "    X = pad_sequences(X)\n",
    "\n",
    "    return X"
   ]
  },
  {
   "cell_type": "code",
   "execution_count": 91,
   "metadata": {
    "id": "84kXtjEreW9F"
   },
   "outputs": [],
   "source": [
    "X_train = pad(tokenizer,df_train, 'text')\n",
    "X_val = pad(tokenizer,df_val, 'text')"
   ]
  },
  {
   "cell_type": "code",
   "execution_count": 92,
   "metadata": {
    "colab": {
     "base_uri": "https://localhost:8080/"
    },
    "id": "eEuOQRcJeYq5",
    "outputId": "0f59e930-5a0d-468b-d0b1-7f087d299458"
   },
   "outputs": [
    {
     "data": {
      "text/plain": [
       "[(40617, 39), (10155, 32)]"
      ]
     },
     "execution_count": 92,
     "metadata": {},
     "output_type": "execute_result"
    }
   ],
   "source": [
    "[X_train.shape,X_val.shape]"
   ]
  },
  {
   "cell_type": "code",
   "execution_count": 93,
   "metadata": {
    "id": "mhPfrXZHebE1"
   },
   "outputs": [],
   "source": [
    "def pad_seq(seq_to_pad, reference_seq, pad_type='pre', constant_value=0):\n",
    "    \"\"\"\n",
    "    Pad sequences to have the same number of features as the reference sequence.\n",
    "\n",
    "    Parameters:\n",
    "    - seq_to_pad: NumPy array of sequences that need padding.\n",
    "    - reference_seq: NumPy array of the reference sequence to match the time steps.\n",
    "    - pad_type: String, either 'pre' or 'post', indicating where to add padding. Defaults to 'pre'.\n",
    "    - constant_value: Value to use for padding. Defaults to 0.\n",
    "\n",
    "    Returns:\n",
    "    - Padded NumPy array of sequences.\n",
    "    \"\"\"\n",
    "    # Calculate the number of features in the reference sequences\n",
    "    time_steps_reference = reference_seq.shape[1]\n",
    "\n",
    "    # Calculate the padding required to match the reference sequence\n",
    "    padding = time_steps_reference - seq_to_pad.shape[1]\n",
    "\n",
    "    if padding < 0:\n",
    "        raise ValueError(\"The sequence to pad has more features than the reference sequence.\")\n",
    "\n",
    "    # Determine padding configuration\n",
    "    if pad_type == 'pre':\n",
    "        pad_width = ((0, 0), (padding, 0))\n",
    "    elif pad_type == 'post':\n",
    "        pad_width = ((0, 0), (0, padding))\n",
    "    else:\n",
    "        raise ValueError(\"pad_type must be 'pre' or 'post'.\")\n",
    "\n",
    "    # Apply padding to the sequence\n",
    "    seq_padded = np.pad(\n",
    "        seq_to_pad,\n",
    "        pad_width,\n",
    "        'constant',\n",
    "        constant_values=(constant_value)\n",
    "    )\n",
    "\n",
    "    return seq_padded"
   ]
  },
  {
   "cell_type": "code",
   "execution_count": 94,
   "metadata": {
    "id": "SYpiSNEkedzj"
   },
   "outputs": [],
   "source": [
    "X_val = pad_seq(X_val, X_train, pad_type='pre', constant_value=0)"
   ]
  },
  {
   "cell_type": "code",
   "execution_count": 95,
   "metadata": {
    "colab": {
     "base_uri": "https://localhost:8080/"
    },
    "id": "nXgASmNdefER",
    "outputId": "d28b14e6-0e2d-4dfc-9c9f-0f7c6576e189"
   },
   "outputs": [
    {
     "data": {
      "text/plain": [
       "[(40617, 39), (10155, 39)]"
      ]
     },
     "execution_count": 95,
     "metadata": {},
     "output_type": "execute_result"
    }
   ],
   "source": [
    "[X_train.shape,X_val.shape]"
   ]
  },
  {
   "cell_type": "code",
   "execution_count": 96,
   "metadata": {
    "id": "TUakjv4YehJb"
   },
   "outputs": [],
   "source": [
    "def one_hot_encode_labels(df, column_name):\n",
    "    \"\"\"\n",
    "    Convert categorical column values into a one-hot encoded NumPy array.\n",
    "\n",
    "    Parameters:\n",
    "    - df: pandas DataFrame containing the data.\n",
    "    - column_name: string, the name of the column to be one-hot encoded.\n",
    "\n",
    "    Returns:\n",
    "    - A NumPy array containing the one-hot encoded labels.\n",
    "\n",
    "    Summary:\n",
    "    The function takes a DataFrame and the column name which contains categorical values.\n",
    "    It uses the pandas `get_dummies` method to perform one-hot encoding and then converts\n",
    "    the result into a NumPy array which is suitable for use as labels in many machine learning frameworks.\n",
    "\n",
    "    Comments:\n",
    "    One-hot encoding is a process where categorical variables are converted into a form that\n",
    "    could be provided to ML algorithms to do a better job in prediction. Each unique category value\n",
    "    is transformed into a binary vector with one high (1) and all the rests low (0).\n",
    "    \"\"\"\n",
    "    # Check if the specified column exists in the DataFrame\n",
    "    if column_name not in df.columns:\n",
    "        raise ValueError(f\"The column '{column_name}' does not exist in the DataFrame.\")\n",
    "\n",
    "    # Perform one-hot encoding using pandas get_dummies\n",
    "    one_hot_encoded_df = pd.get_dummies(df[column_name])\n",
    "\n",
    "    # Convert the resulting DataFrame into a NumPy array\n",
    "    one_hot_encoded_array = np.array(one_hot_encoded_df)\n",
    "\n",
    "    return one_hot_encoded_array"
   ]
  },
  {
   "cell_type": "code",
   "execution_count": 97,
   "metadata": {
    "id": "jxLTHvBxejWl"
   },
   "outputs": [],
   "source": [
    "Y_train = one_hot_encode_labels(df_train, 'sentiment')\n",
    "Y_val = one_hot_encode_labels(df_val, 'sentiment')"
   ]
  },
  {
   "cell_type": "code",
   "execution_count": 98,
   "metadata": {
    "colab": {
     "base_uri": "https://localhost:8080/"
    },
    "id": "eiew4xeQerVf",
    "outputId": "f7323b20-6206-49d8-dfa5-bbb973e6ca1d"
   },
   "outputs": [
    {
     "name": "stdout",
     "output_type": "stream",
     "text": [
      "X train Shape: (40617, 39)\n",
      "X validation Shape: (10155, 39)\n",
      "Y train Shape: (40617, 3)\n",
      "Y train Shape: (10155, 3)\n"
     ]
    }
   ],
   "source": [
    "print('X train Shape:',X_train.shape)\n",
    "print('X validation Shape:',X_val.shape)\n",
    "print('Y train Shape:',Y_train.shape)\n",
    "print('Y train Shape:',Y_val.shape)"
   ]
  },
  {
   "cell_type": "markdown",
   "metadata": {
    "id": "s9FT-Wj-epv_"
   },
   "source": [
    "#### LSTM Model Building"
   ]
  },
  {
   "cell_type": "code",
   "execution_count": 99,
   "metadata": {
    "id": "kyeO2SQCJ4gv"
   },
   "outputs": [],
   "source": [
    "def build_model(\n",
    "        input_length, \n",
    "        max_features=3000, \n",
    "        embed_dim=128, \n",
    "        lstm_out=256):\n",
    "    \n",
    "    loss= 'categorical_crossentropy'\n",
    "    activation='softmax'\n",
    "    optimizer='adam'\n",
    "    met=[\n",
    "                'accuracy',\n",
    "                metrics.Precision(),\n",
    "                metrics.Recall(),\n",
    "                metrics.AUC()\n",
    "            ]\n",
    "    \n",
    "    model = Sequential()\n",
    "\n",
    "    # Embedding layer for vectorizing text\n",
    "    model.add(Embedding(max_features, embed_dim, input_length=input_length))\n",
    "\n",
    "    # Dropout layer after embedding to reduce overfitting on feature level\n",
    "    model.add(SpatialDropout1D(0.3))\n",
    "\n",
    "    # First LSTM layer with dropout for sequence processing, returns sequences\n",
    "    model.add(LSTM(lstm_out, dropout=0.2, recurrent_dropout=0.2,return_sequences=True))\n",
    "\n",
    "    # Dropout layer after LSTM to reduce overfitting on sequence level\n",
    "    model.add(Dropout(0.5))\n",
    "    \n",
    "    # Second LSTM layer without return_sequences\n",
    "    model.add(LSTM(lstm_out // 2, dropout=0.5, recurrent_dropout=0.5))\n",
    "\n",
    "    # Dense layer for output prediction with softmax activation for multi-class classification\n",
    "    model.add(Dense(3, activation=activation))\n",
    "\n",
    "    # Compiling the model with categorical cross-entropy loss and additional metrics\n",
    "    model.compile(\n",
    "        loss=loss, \n",
    "        optimizer=optimizer, \n",
    "        metrics=met\n",
    "    )\n",
    "\n",
    "    print(model.summary())\n",
    "\n",
    "    return model"
   ]
  },
  {
   "cell_type": "code",
   "execution_count": 100,
   "metadata": {
    "colab": {
     "base_uri": "https://localhost:8080/"
    },
    "id": "nOu0GQOLJ4gv",
    "outputId": "5b3ccc80-4da1-43a5-ee5a-b9cd0994f90a"
   },
   "outputs": [
    {
     "name": "stdout",
     "output_type": "stream",
     "text": [
      "WARNING:tensorflow:From c:\\API Projects\\NLP\\.venv\\lib\\site-packages\\keras\\src\\backend.py:873: The name tf.get_default_graph is deprecated. Please use tf.compat.v1.get_default_graph instead.\n",
      "\n",
      "WARNING:tensorflow:From c:\\API Projects\\NLP\\.venv\\lib\\site-packages\\keras\\src\\optimizers\\__init__.py:309: The name tf.train.Optimizer is deprecated. Please use tf.compat.v1.train.Optimizer instead.\n",
      "\n",
      "Model: \"sequential\"\n",
      "_________________________________________________________________\n",
      " Layer (type)                Output Shape              Param #   \n",
      "=================================================================\n",
      " embedding (Embedding)       (None, 39, 128)           384000    \n",
      "                                                                 \n",
      " spatial_dropout1d (Spatial  (None, 39, 128)           0         \n",
      " Dropout1D)                                                      \n",
      "                                                                 \n",
      " lstm (LSTM)                 (None, 39, 256)           394240    \n",
      "                                                                 \n",
      " dropout (Dropout)           (None, 39, 256)           0         \n",
      "                                                                 \n",
      " lstm_1 (LSTM)               (None, 128)               197120    \n",
      "                                                                 \n",
      " dense (Dense)               (None, 3)                 387       \n",
      "                                                                 \n",
      "=================================================================\n",
      "Total params: 975747 (3.72 MB)\n",
      "Trainable params: 975747 (3.72 MB)\n",
      "Non-trainable params: 0 (0.00 Byte)\n",
      "_________________________________________________________________\n",
      "None\n"
     ]
    }
   ],
   "source": [
    "model = build_model(X_train.shape[1])"
   ]
  },
  {
   "cell_type": "markdown",
   "metadata": {},
   "source": [
    "#### LSTM Model Training"
   ]
  },
  {
   "cell_type": "code",
   "execution_count": 101,
   "metadata": {
    "id": "vOqJNtxPJ4gv"
   },
   "outputs": [],
   "source": [
    "def train_model(model, X_train, Y_train, epochs=100, batch_size=32,validation_split=0.2):\n",
    "    \"\"\"\n",
    "    Train the LSTM model.\n",
    "    \"\"\"\n",
    "    # Early stopping to prevent overfitting\n",
    "    early_stopping = EarlyStopping(\n",
    "        monitor='accuracy',\n",
    "        patience=5,  # Number of epochs with no improvement after which training will be stopped\n",
    "        restore_best_weights=True  # Restore model weights from the epoch with the best value of the monitored quantity\n",
    "    )\n",
    "\n",
    "    # Reduce learning rate when a metric has stopped improving\n",
    "    reduce_lr = ReduceLROnPlateau(\n",
    "        monitor='accuracy',\n",
    "        factor=0.2,  # Factor by which the learning rate will be reduced\n",
    "        patience=3,  # Number of epochs with no improvement after which learning rate will be reduced\n",
    "        min_lr=1e-6  # Lower bound on the learning rate\n",
    "    )\n",
    "\n",
    "    history = model.fit(\n",
    "        X_train, Y_train,\n",
    "        epochs=epochs,\n",
    "        batch_size=batch_size,\n",
    "        verbose=2,\n",
    "        shuffle=False,\n",
    "        callbacks=[early_stopping,reduce_lr])\n",
    "\n",
    "    return history"
   ]
  },
  {
   "cell_type": "code",
   "execution_count": 102,
   "metadata": {
    "colab": {
     "base_uri": "https://localhost:8080/"
    },
    "id": "Jxafj29xJ4gv",
    "outputId": "b201b170-861a-4a1e-9353-cfbb5028fd40"
   },
   "outputs": [
    {
     "name": "stdout",
     "output_type": "stream",
     "text": [
      "Epoch 1/100\n",
      "WARNING:tensorflow:From c:\\API Projects\\NLP\\.venv\\lib\\site-packages\\keras\\src\\utils\\tf_utils.py:492: The name tf.ragged.RaggedTensorValue is deprecated. Please use tf.compat.v1.ragged.RaggedTensorValue instead.\n",
      "\n",
      "WARNING:tensorflow:From c:\\API Projects\\NLP\\.venv\\lib\\site-packages\\keras\\src\\engine\\base_layer_utils.py:384: The name tf.executing_eagerly_outside_functions is deprecated. Please use tf.compat.v1.executing_eagerly_outside_functions instead.\n",
      "\n",
      "1270/1270 - 124s - loss: 0.7697 - accuracy: 0.6653 - precision: 0.7459 - recall: 0.5495 - auc: 0.8373 - lr: 0.0010 - 124s/epoch - 98ms/step\n",
      "Epoch 2/100\n",
      "1270/1270 - 119s - loss: 0.5946 - accuracy: 0.7611 - precision: 0.7975 - recall: 0.7149 - auc: 0.9054 - lr: 0.0010 - 119s/epoch - 94ms/step\n",
      "Epoch 3/100\n",
      "1270/1270 - 121s - loss: 0.5104 - accuracy: 0.8004 - precision: 0.8319 - recall: 0.7647 - auc: 0.9305 - lr: 0.0010 - 121s/epoch - 95ms/step\n",
      "Epoch 4/100\n",
      "1270/1270 - 121s - loss: 0.4496 - accuracy: 0.8241 - precision: 0.8532 - recall: 0.7943 - auc: 0.9461 - lr: 0.0010 - 121s/epoch - 95ms/step\n",
      "Epoch 5/100\n",
      "1270/1270 - 121s - loss: 0.4020 - accuracy: 0.8435 - precision: 0.8701 - recall: 0.8180 - auc: 0.9568 - lr: 0.0010 - 121s/epoch - 96ms/step\n",
      "Epoch 6/100\n",
      "1270/1270 - 121s - loss: 0.3636 - accuracy: 0.8585 - precision: 0.8836 - recall: 0.8364 - auc: 0.9646 - lr: 0.0010 - 121s/epoch - 95ms/step\n",
      "Epoch 7/100\n",
      "1270/1270 - 121s - loss: 0.3304 - accuracy: 0.8733 - precision: 0.8959 - recall: 0.8525 - auc: 0.9707 - lr: 0.0010 - 121s/epoch - 95ms/step\n",
      "Epoch 8/100\n",
      "1270/1270 - 122s - loss: 0.3083 - accuracy: 0.8815 - precision: 0.9036 - recall: 0.8619 - auc: 0.9744 - lr: 0.0010 - 122s/epoch - 96ms/step\n",
      "Epoch 9/100\n",
      "1270/1270 - 122s - loss: 0.2845 - accuracy: 0.8898 - precision: 0.9101 - recall: 0.8710 - auc: 0.9782 - lr: 0.0010 - 122s/epoch - 96ms/step\n",
      "Epoch 10/100\n",
      "1270/1270 - 123s - loss: 0.2640 - accuracy: 0.9000 - precision: 0.9194 - recall: 0.8817 - auc: 0.9810 - lr: 0.0010 - 123s/epoch - 97ms/step\n",
      "Epoch 11/100\n",
      "1270/1270 - 122s - loss: 0.2504 - accuracy: 0.9036 - precision: 0.9234 - recall: 0.8891 - auc: 0.9829 - lr: 0.0010 - 122s/epoch - 96ms/step\n",
      "Epoch 12/100\n",
      "1270/1270 - 123s - loss: 0.2342 - accuracy: 0.9090 - precision: 0.9270 - recall: 0.8943 - auc: 0.9849 - lr: 0.0010 - 123s/epoch - 97ms/step\n",
      "Epoch 13/100\n",
      "1270/1270 - 123s - loss: 0.2201 - accuracy: 0.9152 - precision: 0.9325 - recall: 0.9018 - auc: 0.9866 - lr: 0.0010 - 123s/epoch - 97ms/step\n",
      "Epoch 14/100\n",
      "1270/1270 - 123s - loss: 0.2080 - accuracy: 0.9189 - precision: 0.9358 - recall: 0.9057 - auc: 0.9881 - lr: 0.0010 - 123s/epoch - 97ms/step\n",
      "Epoch 15/100\n",
      "1270/1270 - 124s - loss: 0.1955 - accuracy: 0.9236 - precision: 0.9406 - recall: 0.9109 - auc: 0.9894 - lr: 0.0010 - 124s/epoch - 97ms/step\n",
      "Epoch 16/100\n",
      "1270/1270 - 123s - loss: 0.1879 - accuracy: 0.9289 - precision: 0.9437 - recall: 0.9166 - auc: 0.9901 - lr: 0.0010 - 123s/epoch - 97ms/step\n",
      "Epoch 17/100\n",
      "1270/1270 - 123s - loss: 0.1803 - accuracy: 0.9304 - precision: 0.9461 - recall: 0.9184 - auc: 0.9909 - lr: 0.0010 - 123s/epoch - 97ms/step\n",
      "Epoch 18/100\n",
      "1270/1270 - 123s - loss: 0.1708 - accuracy: 0.9341 - precision: 0.9491 - recall: 0.9229 - auc: 0.9917 - lr: 0.0010 - 123s/epoch - 97ms/step\n",
      "Epoch 19/100\n",
      "1270/1270 - 123s - loss: 0.1669 - accuracy: 0.9358 - precision: 0.9502 - recall: 0.9245 - auc: 0.9921 - lr: 0.0010 - 123s/epoch - 97ms/step\n",
      "Epoch 20/100\n",
      "1270/1270 - 123s - loss: 0.1586 - accuracy: 0.9377 - precision: 0.9519 - recall: 0.9267 - auc: 0.9929 - lr: 0.0010 - 123s/epoch - 97ms/step\n",
      "Epoch 21/100\n",
      "1270/1270 - 123s - loss: 0.1514 - accuracy: 0.9413 - precision: 0.9555 - recall: 0.9315 - auc: 0.9934 - lr: 0.0010 - 123s/epoch - 97ms/step\n",
      "Epoch 22/100\n",
      "1270/1270 - 124s - loss: 0.1505 - accuracy: 0.9408 - precision: 0.9551 - recall: 0.9312 - auc: 0.9935 - lr: 0.0010 - 124s/epoch - 97ms/step\n",
      "Epoch 23/100\n",
      "1270/1270 - 123s - loss: 0.1445 - accuracy: 0.9435 - precision: 0.9567 - recall: 0.9338 - auc: 0.9939 - lr: 0.0010 - 123s/epoch - 97ms/step\n",
      "Epoch 24/100\n",
      "1270/1270 - 123s - loss: 0.1394 - accuracy: 0.9451 - precision: 0.9589 - recall: 0.9356 - auc: 0.9944 - lr: 0.0010 - 123s/epoch - 97ms/step\n",
      "Epoch 25/100\n",
      "1270/1270 - 123s - loss: 0.1327 - accuracy: 0.9484 - precision: 0.9615 - recall: 0.9387 - auc: 0.9950 - lr: 0.0010 - 123s/epoch - 97ms/step\n",
      "Epoch 26/100\n",
      "1270/1270 - 123s - loss: 0.1336 - accuracy: 0.9478 - precision: 0.9604 - recall: 0.9383 - auc: 0.9948 - lr: 0.0010 - 123s/epoch - 97ms/step\n",
      "Epoch 27/100\n",
      "1270/1270 - 123s - loss: 0.1270 - accuracy: 0.9504 - precision: 0.9631 - recall: 0.9413 - auc: 0.9952 - lr: 0.0010 - 123s/epoch - 97ms/step\n",
      "Epoch 28/100\n",
      "1270/1270 - 123s - loss: 0.1258 - accuracy: 0.9507 - precision: 0.9635 - recall: 0.9423 - auc: 0.9954 - lr: 0.0010 - 123s/epoch - 97ms/step\n",
      "Epoch 29/100\n",
      "1270/1270 - 123s - loss: 0.1190 - accuracy: 0.9527 - precision: 0.9653 - recall: 0.9436 - auc: 0.9958 - lr: 0.0010 - 123s/epoch - 97ms/step\n",
      "Epoch 30/100\n",
      "1270/1270 - 123s - loss: 0.1192 - accuracy: 0.9536 - precision: 0.9654 - recall: 0.9449 - auc: 0.9958 - lr: 0.0010 - 123s/epoch - 97ms/step\n",
      "Epoch 31/100\n",
      "1270/1270 - 123s - loss: 0.1174 - accuracy: 0.9537 - precision: 0.9665 - recall: 0.9460 - auc: 0.9958 - lr: 0.0010 - 123s/epoch - 97ms/step\n",
      "Epoch 32/100\n",
      "1270/1270 - 124s - loss: 0.1157 - accuracy: 0.9543 - precision: 0.9661 - recall: 0.9460 - auc: 0.9960 - lr: 0.0010 - 124s/epoch - 98ms/step\n",
      "Epoch 33/100\n",
      "1270/1270 - 123s - loss: 0.1149 - accuracy: 0.9548 - precision: 0.9670 - recall: 0.9463 - auc: 0.9961 - lr: 0.0010 - 123s/epoch - 97ms/step\n",
      "Epoch 34/100\n",
      "1270/1270 - 123s - loss: 0.1101 - accuracy: 0.9563 - precision: 0.9679 - recall: 0.9484 - auc: 0.9963 - lr: 0.0010 - 123s/epoch - 97ms/step\n",
      "Epoch 35/100\n",
      "1270/1270 - 123s - loss: 0.1095 - accuracy: 0.9558 - precision: 0.9678 - recall: 0.9478 - auc: 0.9964 - lr: 0.0010 - 123s/epoch - 97ms/step\n",
      "Epoch 36/100\n",
      "1270/1270 - 123s - loss: 0.1065 - accuracy: 0.9590 - precision: 0.9705 - recall: 0.9507 - auc: 0.9966 - lr: 0.0010 - 123s/epoch - 97ms/step\n",
      "Epoch 37/100\n",
      "1270/1270 - 123s - loss: 0.1044 - accuracy: 0.9584 - precision: 0.9699 - recall: 0.9508 - auc: 0.9967 - lr: 0.0010 - 123s/epoch - 96ms/step\n",
      "Epoch 38/100\n",
      "1270/1270 - 122s - loss: 0.1047 - accuracy: 0.9585 - precision: 0.9699 - recall: 0.9503 - auc: 0.9967 - lr: 0.0010 - 122s/epoch - 96ms/step\n",
      "Epoch 39/100\n",
      "1270/1270 - 123s - loss: 0.1084 - accuracy: 0.9562 - precision: 0.9683 - recall: 0.9486 - auc: 0.9964 - lr: 0.0010 - 123s/epoch - 97ms/step\n",
      "Epoch 40/100\n",
      "1270/1270 - 122s - loss: 0.0958 - accuracy: 0.9628 - precision: 0.9738 - recall: 0.9543 - auc: 0.9972 - lr: 2.0000e-04 - 122s/epoch - 96ms/step\n",
      "Epoch 41/100\n",
      "1270/1270 - 123s - loss: 0.0863 - accuracy: 0.9648 - precision: 0.9761 - recall: 0.9580 - auc: 0.9978 - lr: 2.0000e-04 - 123s/epoch - 97ms/step\n",
      "Epoch 42/100\n",
      "1270/1270 - 122s - loss: 0.0852 - accuracy: 0.9657 - precision: 0.9764 - recall: 0.9582 - auc: 0.9978 - lr: 2.0000e-04 - 122s/epoch - 96ms/step\n",
      "Epoch 43/100\n",
      "1270/1270 - 123s - loss: 0.0824 - accuracy: 0.9668 - precision: 0.9775 - recall: 0.9593 - auc: 0.9979 - lr: 2.0000e-04 - 123s/epoch - 97ms/step\n",
      "Epoch 44/100\n",
      "1270/1270 - 123s - loss: 0.0811 - accuracy: 0.9679 - precision: 0.9787 - recall: 0.9603 - auc: 0.9980 - lr: 2.0000e-04 - 123s/epoch - 97ms/step\n",
      "Epoch 45/100\n",
      "1270/1270 - 123s - loss: 0.0808 - accuracy: 0.9668 - precision: 0.9779 - recall: 0.9595 - auc: 0.9980 - lr: 2.0000e-04 - 123s/epoch - 96ms/step\n",
      "Epoch 46/100\n",
      "1270/1270 - 123s - loss: 0.0780 - accuracy: 0.9679 - precision: 0.9788 - recall: 0.9607 - auc: 0.9982 - lr: 2.0000e-04 - 123s/epoch - 97ms/step\n",
      "Epoch 47/100\n",
      "1270/1270 - 123s - loss: 0.0783 - accuracy: 0.9684 - precision: 0.9791 - recall: 0.9616 - auc: 0.9980 - lr: 2.0000e-04 - 123s/epoch - 97ms/step\n",
      "Epoch 48/100\n",
      "1270/1270 - 122s - loss: 0.0765 - accuracy: 0.9684 - precision: 0.9793 - recall: 0.9611 - auc: 0.9981 - lr: 2.0000e-04 - 122s/epoch - 96ms/step\n",
      "Epoch 49/100\n",
      "1270/1270 - 123s - loss: 0.0760 - accuracy: 0.9686 - precision: 0.9790 - recall: 0.9616 - auc: 0.9982 - lr: 2.0000e-04 - 123s/epoch - 97ms/step\n",
      "Epoch 50/100\n",
      "1270/1270 - 122s - loss: 0.0756 - accuracy: 0.9696 - precision: 0.9802 - recall: 0.9619 - auc: 0.9982 - lr: 2.0000e-04 - 122s/epoch - 96ms/step\n",
      "Epoch 51/100\n",
      "1270/1270 - 124s - loss: 0.0754 - accuracy: 0.9687 - precision: 0.9801 - recall: 0.9620 - auc: 0.9983 - lr: 2.0000e-04 - 124s/epoch - 98ms/step\n",
      "Epoch 52/100\n",
      "1270/1270 - 123s - loss: 0.0752 - accuracy: 0.9690 - precision: 0.9800 - recall: 0.9623 - auc: 0.9982 - lr: 2.0000e-04 - 123s/epoch - 97ms/step\n",
      "Epoch 53/100\n",
      "1270/1270 - 123s - loss: 0.0745 - accuracy: 0.9684 - precision: 0.9801 - recall: 0.9620 - auc: 0.9982 - lr: 2.0000e-04 - 123s/epoch - 97ms/step\n",
      "Epoch 54/100\n",
      "1270/1270 - 124s - loss: 0.0731 - accuracy: 0.9692 - precision: 0.9807 - recall: 0.9627 - auc: 0.9983 - lr: 4.0000e-05 - 124s/epoch - 97ms/step\n",
      "Epoch 55/100\n",
      "1270/1270 - 123s - loss: 0.0713 - accuracy: 0.9705 - precision: 0.9813 - recall: 0.9632 - auc: 0.9984 - lr: 4.0000e-05 - 123s/epoch - 97ms/step\n",
      "Epoch 56/100\n",
      "1270/1270 - 123s - loss: 0.0724 - accuracy: 0.9701 - precision: 0.9811 - recall: 0.9627 - auc: 0.9984 - lr: 4.0000e-05 - 123s/epoch - 97ms/step\n",
      "Epoch 57/100\n",
      "1270/1270 - 123s - loss: 0.0721 - accuracy: 0.9701 - precision: 0.9810 - recall: 0.9637 - auc: 0.9984 - lr: 4.0000e-05 - 123s/epoch - 97ms/step\n",
      "Epoch 58/100\n",
      "1270/1270 - 123s - loss: 0.0696 - accuracy: 0.9706 - precision: 0.9818 - recall: 0.9641 - auc: 0.9985 - lr: 4.0000e-05 - 123s/epoch - 97ms/step\n",
      "Epoch 59/100\n",
      "1270/1270 - 123s - loss: 0.0722 - accuracy: 0.9706 - precision: 0.9813 - recall: 0.9637 - auc: 0.9984 - lr: 8.0000e-06 - 123s/epoch - 97ms/step\n",
      "Epoch 60/100\n",
      "1270/1270 - 123s - loss: 0.0690 - accuracy: 0.9718 - precision: 0.9823 - recall: 0.9639 - auc: 0.9985 - lr: 8.0000e-06 - 123s/epoch - 97ms/step\n",
      "Epoch 61/100\n",
      "1270/1270 - 123s - loss: 0.0703 - accuracy: 0.9704 - precision: 0.9816 - recall: 0.9637 - auc: 0.9984 - lr: 8.0000e-06 - 123s/epoch - 96ms/step\n",
      "Epoch 62/100\n",
      "1270/1270 - 123s - loss: 0.0684 - accuracy: 0.9716 - precision: 0.9825 - recall: 0.9650 - auc: 0.9986 - lr: 8.0000e-06 - 123s/epoch - 97ms/step\n",
      "Epoch 63/100\n",
      "1270/1270 - 123s - loss: 0.0702 - accuracy: 0.9706 - precision: 0.9814 - recall: 0.9637 - auc: 0.9986 - lr: 8.0000e-06 - 123s/epoch - 96ms/step\n",
      "Epoch 64/100\n",
      "1270/1270 - 123s - loss: 0.0689 - accuracy: 0.9704 - precision: 0.9817 - recall: 0.9632 - auc: 0.9986 - lr: 1.6000e-06 - 123s/epoch - 97ms/step\n",
      "Epoch 65/100\n",
      "1270/1270 - 122s - loss: 0.0708 - accuracy: 0.9695 - precision: 0.9809 - recall: 0.9633 - auc: 0.9985 - lr: 1.6000e-06 - 122s/epoch - 96ms/step\n"
     ]
    }
   ],
   "source": [
    "history  = train_model(model, X_train, Y_train)"
   ]
  },
  {
   "cell_type": "code",
   "execution_count": 103,
   "metadata": {},
   "outputs": [
    {
     "data": {
      "text/plain": [
       "['models\\\\LSTM_model.joblib']"
      ]
     },
     "execution_count": 103,
     "metadata": {},
     "output_type": "execute_result"
    }
   ],
   "source": [
    "# Save the model\n",
    "dump(model, 'models\\\\LSTM_model.joblib')"
   ]
  },
  {
   "cell_type": "markdown",
   "metadata": {},
   "source": [
    "#### LSTM Model Evaluating"
   ]
  },
  {
   "cell_type": "code",
   "execution_count": 104,
   "metadata": {},
   "outputs": [],
   "source": [
    "history_dict = history.history"
   ]
  },
  {
   "cell_type": "code",
   "execution_count": 105,
   "metadata": {},
   "outputs": [
    {
     "name": "stdout",
     "output_type": "stream",
     "text": [
      "Final Accuracy: 0.9694709181785583\n",
      "Final Loss: 0.07081370055675507\n",
      "Final Precision: 0.9808728694915771\n",
      "Final Recall: 0.9633404612541199\n",
      "Final AUC: 0.998466968536377\n"
     ]
    }
   ],
   "source": [
    "# Print the last value of each metric\n",
    "print(\"Final Accuracy:\", history_dict['accuracy'][-1])\n",
    "print(\"Final Loss:\", history_dict['loss'][-1])\n",
    "print(\"Final Precision:\", history_dict['precision'][-1])\n",
    "print(\"Final Recall:\", history_dict['recall'][-1])\n",
    "print(\"Final AUC:\", history_dict['auc'][-1])"
   ]
  },
  {
   "cell_type": "code",
   "execution_count": 106,
   "metadata": {},
   "outputs": [
    {
     "data": {
      "image/png": "[encoded data removed]",
      "text/plain": [
       "<Figure size 1200x1000 with 5 Axes>"
      ]
     },
     "metadata": {},
     "output_type": "display_data"
    },
    {
     "data": {
      "text/plain": [
       "<Figure size 640x480 with 0 Axes>"
      ]
     },
     "metadata": {},
     "output_type": "display_data"
    }
   ],
   "source": [
    "plt.figure(figsize=(12, 10))\n",
    "\n",
    "# Plot the loss\n",
    "plt.subplot(3, 2, 1)\n",
    "plt.plot(history.history['loss'], label='Train Loss')\n",
    "plt.title('Loss Over Epochs')\n",
    "plt.xlabel('Epochs')\n",
    "plt.ylabel('Loss')\n",
    "plt.legend()\n",
    "\n",
    "# Plot the accuracy\n",
    "plt.subplot(3, 2, 2)\n",
    "plt.plot(history.history['accuracy'], label='Train Accuracy')\n",
    "plt.title('Accuracy Over Epochs')\n",
    "plt.xlabel('Epochs')\n",
    "plt.ylabel('Accuracy')\n",
    "plt.legend()\n",
    "\n",
    "# Precision\n",
    "plt.subplot(3, 2, 3)\n",
    "plt.plot(history.history['precision'], label='Train Precision')\n",
    "plt.title('Precision Over Epochs')\n",
    "plt.xlabel('Epochs')\n",
    "plt.ylabel('Precision')\n",
    "plt.legend()\n",
    "\n",
    "# Recall\n",
    "plt.subplot(3, 2, 4)\n",
    "plt.plot(history.history['recall'], label='Train Recall')\n",
    "plt.title('Recall Over Epochs')\n",
    "plt.xlabel('Epochs')\n",
    "plt.ylabel('Recall')\n",
    "plt.legend()\n",
    "\n",
    "# AUC\n",
    "plt.subplot(3, 2, 5)\n",
    "plt.plot(history.history['auc'], label='Train AUC')\n",
    "plt.title('AUC Over Epochs')\n",
    "plt.xlabel('Epochs')\n",
    "plt.ylabel('AUC')\n",
    "plt.legend()\n",
    "\n",
    "plt.tight_layout()\n",
    "plt.show()\n",
    "\n",
    "plt.tight_layout()\n",
    "plt.show()"
   ]
  },
  {
   "cell_type": "code",
   "execution_count": 107,
   "metadata": {},
   "outputs": [],
   "source": [
    "def predict_classes(model, X):\n",
    "    \"\"\"\n",
    "    Predict classes for each sample in X using the provided model.\n",
    "\n",
    "    Parameters:\n",
    "    - model: The trained Keras model.\n",
    "    - X: The input data for making predictions.\n",
    "\n",
    "    Returns:\n",
    "    - A list of predicted class indices.\n",
    "    \"\"\"\n",
    "    return [np.argmax(model.predict(x.reshape(1, -1), batch_size=1, verbose=0)) for x in X]"
   ]
  },
  {
   "cell_type": "code",
   "execution_count": 108,
   "metadata": {},
   "outputs": [],
   "source": [
    "def calculate_accuracy(y_true, y_pred):\n",
    "    \"\"\"\n",
    "    Calculate the accuracy of predictions.\n",
    "\n",
    "    Parameters:\n",
    "    - y_true: The true labels.\n",
    "    - y_pred: The predicted labels.\n",
    "\n",
    "    Returns:\n",
    "    - The accuracy as a float.\n",
    "    \"\"\"\n",
    "    correct_predictions = np.sum(y_true == y_pred)\n",
    "    return correct_predictions / len(y_true)"
   ]
  },
  {
   "cell_type": "code",
   "execution_count": 109,
   "metadata": {},
   "outputs": [],
   "source": [
    "def plot_confusion_matrix(y_true, y_pred):\n",
    "    \"\"\"\n",
    "    Plot a confusion matrix of the true and predicted labels.\n",
    "\n",
    "    Parameters:\n",
    "    - y_true: The true labels.\n",
    "    - y_pred: The predicted labels.\n",
    "    \"\"\"\n",
    "    conf_matrix = confusion_matrix(y_true, y_pred)\n",
    "    fig = plt.figure(figsize=(6, 6))\n",
    "    sns.heatmap(conf_matrix, annot=True, fmt=\"d\", cmap='GnBu')\n",
    "    plt.title(\"Confusion Matrix\")\n",
    "    plt.ylabel('True Class')\n",
    "    plt.xlabel('Predicted Class')\n",
    "    plt.show()"
   ]
  },
  {
   "cell_type": "code",
   "execution_count": 110,
   "metadata": {},
   "outputs": [],
   "source": [
    "def evaluate_model(model, X_test, Y_test):\n",
    "    \"\"\"\n",
    "    Evaluate the LSTM model on the test data.\n",
    "\n",
    "    Summary:\n",
    "    This function predicts classes using the LSTM model for each sample in the test set,\n",
    "    calculates the accuracy, and plots the confusion matrix.\n",
    "\n",
    "    Parameters:\n",
    "    - model: The trained LSTM model.\n",
    "    - X_test: Test features.\n",
    "    - Y_test: True labels for the test set.\n",
    "    \"\"\"\n",
    "    # Make predictions\n",
    "    y_pred = predict_classes(model, X_test)\n",
    "    y_true = np.argmax(Y_test, axis=1)\n",
    "\n",
    "    # Calculate accuracy\n",
    "    accuracy = calculate_accuracy(y_true, y_pred)\n",
    "    print(f\"Accuracy: {accuracy*100:.2f}%\")\n",
    "\n",
    "    # Plot confusion matrix\n",
    "    plot_confusion_matrix(y_true, y_pred)\n",
    "\n",
    "    return y_pred,y_true"
   ]
  },
  {
   "cell_type": "code",
   "execution_count": 111,
   "metadata": {},
   "outputs": [
    {
     "name": "stdout",
     "output_type": "stream",
     "text": [
      "Accuracy: 88.68%\n"
     ]
    },
    {
     "data": {
      "image/png": "[encoded data removed]",
      "text/plain": [
       "<Figure size 600x600 with 2 Axes>"
      ]
     },
     "metadata": {},
     "output_type": "display_data"
    }
   ],
   "source": [
    "y_pred,y_true = evaluate_model(model, X_val, Y_val)"
   ]
  },
  {
   "cell_type": "code",
   "execution_count": 112,
   "metadata": {},
   "outputs": [
    {
     "data": {
      "text/plain": [
       "['LSTM_model.joblib']"
      ]
     },
     "execution_count": 112,
     "metadata": {},
     "output_type": "execute_result"
    }
   ],
   "source": [
    "# Save the model\n",
    "dump(model, 'LSTM_model.joblib')"
   ]
  },
  {
   "cell_type": "code",
   "execution_count": 113,
   "metadata": {},
   "outputs": [],
   "source": [
    "# Load the model later\n",
    "loaded_model = load('LSTM_model.joblib')"
   ]
  },
  {
   "cell_type": "markdown",
   "metadata": {},
   "source": [
    "### TweetNLP\n",
    "\n",
    "TweetNLP for all the NLP enthusiasts working on Twitter and social media in general! The python library tweetnlp provides a collection of useful tools to analyze/understand tweets such as sentiment analysis, emoji prediction, and named-entity recognition, powered by state-of-the-art language modeling specialized on social media.\n",
    "\n",
    "https://github.com/cardiffnlp/tweetnlp"
   ]
  },
  {
   "cell_type": "code",
   "execution_count": null,
   "metadata": {},
   "outputs": [],
   "source": [
    "tweet_model = tweetnlp.load_model('sentiment') "
   ]
  },
  {
   "cell_type": "code",
   "execution_count": 115,
   "metadata": {},
   "outputs": [
    {
     "name": "stdout",
     "output_type": "stream",
     "text": [
      "Using TweetNLP for Sentiment Analysis\n",
      "I'm happy. is: {'label': 'positive'}\n",
      "I'm sad. is: {'label': 'negative'}\n"
     ]
    }
   ],
   "source": [
    "#Using Example\n",
    "print('Using TweetNLP for Sentiment Analysis')\n",
    "print('I\\'m happy. is:',tweet_model.sentiment('I\\'m happy.'))\n",
    "print('I\\'m sad. is:',tweet_model.sentiment('I\\'m sad.'))"
   ]
  },
  {
   "cell_type": "code",
   "execution_count": 116,
   "metadata": {},
   "outputs": [],
   "source": [
    "# Define a function that will convert sentiment labels to numeric values\n",
    "def get_sentiment_numeric(label):\n",
    "    if label == 'positive':\n",
    "        return 0\n",
    "    elif label == 'negative':\n",
    "        return 1\n",
    "    else:\n",
    "        return 2  # for neutral or any other class"
   ]
  },
  {
   "cell_type": "code",
   "execution_count": 117,
   "metadata": {},
   "outputs": [],
   "source": [
    "# Define a function to apply the model to each row and get the numeric sentiment\n",
    "def predict_sentiment(text):\n",
    "    result = tweet_model.sentiment(text)\n",
    "    return get_sentiment_numeric(result['label'])"
   ]
  },
  {
   "cell_type": "code",
   "execution_count": 118,
   "metadata": {},
   "outputs": [],
   "source": [
    "# Apply the predict_sentiment function to the 'text' column and create the 'y_prd' column\n",
    "df_val['y_prd'] = df_val['text'].apply(predict_sentiment)"
   ]
  },
  {
   "cell_type": "code",
   "execution_count": 119,
   "metadata": {},
   "outputs": [
    {
     "data": {
      "text/html": [
       "<div>\n",
       "<style scoped>\n",
       "    .dataframe tbody tr th:only-of-type {\n",
       "        vertical-align: middle;\n",
       "    }\n",
       "\n",
       "    .dataframe tbody tr th {\n",
       "        vertical-align: top;\n",
       "    }\n",
       "\n",
       "    .dataframe thead th {\n",
       "        text-align: right;\n",
       "    }\n",
       "</style>\n",
       "<table border=\"1\" class=\"dataframe\">\n",
       "  <thead>\n",
       "    <tr style=\"text-align: right;\">\n",
       "      <th></th>\n",
       "      <th>text</th>\n",
       "      <th>sentiment_text</th>\n",
       "      <th>sentiment</th>\n",
       "      <th>y_prd</th>\n",
       "    </tr>\n",
       "  </thead>\n",
       "  <tbody>\n",
       "    <tr>\n",
       "      <th>21642</th>\n",
       "      <td>thank ! ! ! ! go to buy cs gun fnatic sticker</td>\n",
       "      <td>Positive</td>\n",
       "      <td>0</td>\n",
       "      <td>0</td>\n",
       "    </tr>\n",
       "    <tr>\n",
       "      <th>2957</th>\n",
       "      <td>music play little snippet black op cold war ca...</td>\n",
       "      <td>Positive</td>\n",
       "      <td>0</td>\n",
       "      <td>0</td>\n",
       "    </tr>\n",
       "    <tr>\n",
       "      <th>17597</th>\n",
       "      <td>exactly .</td>\n",
       "      <td>Neutral</td>\n",
       "      <td>2</td>\n",
       "      <td>2</td>\n",
       "    </tr>\n",
       "    <tr>\n",
       "      <th>68694</th>\n",
       "      <td>shit go sideways .. twitch.tv   sa7azar .</td>\n",
       "      <td>Neutral</td>\n",
       "      <td>2</td>\n",
       "      <td>1</td>\n",
       "    </tr>\n",
       "    <tr>\n",
       "      <th>7056</th>\n",
       "      <td>good duo support watch playstation 4 !</td>\n",
       "      <td>Neutral</td>\n",
       "      <td>2</td>\n",
       "      <td>0</td>\n",
       "    </tr>\n",
       "    <tr>\n",
       "      <th>...</th>\n",
       "      <td>...</td>\n",
       "      <td>...</td>\n",
       "      <td>...</td>\n",
       "      <td>...</td>\n",
       "    </tr>\n",
       "    <tr>\n",
       "      <th>48262</th>\n",
       "      <td>like promote free pack water outside supermarket</td>\n",
       "      <td>Positive</td>\n",
       "      <td>0</td>\n",
       "      <td>2</td>\n",
       "    </tr>\n",
       "    <tr>\n",
       "      <th>50282</th>\n",
       "      <td>castro1021 12k free point day good .</td>\n",
       "      <td>Positive</td>\n",
       "      <td>0</td>\n",
       "      <td>0</td>\n",
       "    </tr>\n",
       "    <tr>\n",
       "      <th>39106</th>\n",
       "      <td>playhearthstone</td>\n",
       "      <td>Positive</td>\n",
       "      <td>0</td>\n",
       "      <td>2</td>\n",
       "    </tr>\n",
       "    <tr>\n",
       "      <th>28371</th>\n",
       "      <td>videogamedeal good pretty sweet deal right go ...</td>\n",
       "      <td>Neutral</td>\n",
       "      <td>2</td>\n",
       "      <td>0</td>\n",
       "    </tr>\n",
       "    <tr>\n",
       "      <th>43263</th>\n",
       "      <td>half loot crate</td>\n",
       "      <td>Neutral</td>\n",
       "      <td>2</td>\n",
       "      <td>2</td>\n",
       "    </tr>\n",
       "  </tbody>\n",
       "</table>\n",
       "<p>10155 rows × 4 columns</p>\n",
       "</div>"
      ],
      "text/plain": [
       "                                                    text sentiment_text  \\\n",
       "21642      thank ! ! ! ! go to buy cs gun fnatic sticker       Positive   \n",
       "2957   music play little snippet black op cold war ca...       Positive   \n",
       "17597                                          exactly .        Neutral   \n",
       "68694          shit go sideways .. twitch.tv   sa7azar .        Neutral   \n",
       "7056              good duo support watch playstation 4 !        Neutral   \n",
       "...                                                  ...            ...   \n",
       "48262   like promote free pack water outside supermarket       Positive   \n",
       "50282               castro1021 12k free point day good .       Positive   \n",
       "39106                                    playhearthstone       Positive   \n",
       "28371  videogamedeal good pretty sweet deal right go ...        Neutral   \n",
       "43263                                    half loot crate        Neutral   \n",
       "\n",
       "       sentiment  y_prd  \n",
       "21642          0      0  \n",
       "2957           0      0  \n",
       "17597          2      2  \n",
       "68694          2      1  \n",
       "7056           2      0  \n",
       "...          ...    ...  \n",
       "48262          0      2  \n",
       "50282          0      0  \n",
       "39106          0      2  \n",
       "28371          2      0  \n",
       "43263          2      2  \n",
       "\n",
       "[10155 rows x 4 columns]"
      ]
     },
     "execution_count": 119,
     "metadata": {},
     "output_type": "execute_result"
    }
   ],
   "source": [
    "df_val[['text','sentiment_text','sentiment','y_prd']]"
   ]
  },
  {
   "cell_type": "code",
   "execution_count": 120,
   "metadata": {},
   "outputs": [],
   "source": [
    "# Convert the 'sentiment' and 'y_prd' columns to lists\n",
    "y_true = df_val['sentiment'].tolist()\n",
    "y_pred = df_val['y_prd'].tolist()"
   ]
  },
  {
   "cell_type": "code",
   "execution_count": 121,
   "metadata": {},
   "outputs": [],
   "source": [
    "def calculate_accuracy(y_true, y_pred):\n",
    "    \"\"\"\n",
    "    Calculate the accuracy of predictions.\n",
    "\n",
    "    Parameters:\n",
    "    - y_true: The true labels.\n",
    "    - y_pred: The predicted labels.\n",
    "\n",
    "    Returns:\n",
    "    - The accuracy as a float.\n",
    "    \"\"\"\n",
    "    correct_predictions = np.sum(y_true == y_pred)\n",
    "    return correct_predictions / len(y_true)"
   ]
  },
  {
   "cell_type": "code",
   "execution_count": 122,
   "metadata": {},
   "outputs": [],
   "source": [
    "accuracy = calculate_accuracy(np.array(y_true), np.array(y_pred))"
   ]
  },
  {
   "cell_type": "code",
   "execution_count": 123,
   "metadata": {},
   "outputs": [
    {
     "name": "stdout",
     "output_type": "stream",
     "text": [
      "Accuracy: 0.58\n"
     ]
    }
   ],
   "source": [
    "print(f\"Accuracy: {accuracy:.2f}\")"
   ]
  },
  {
   "cell_type": "markdown",
   "metadata": {},
   "source": [
    " The accuracy is quite low, only 59%."
   ]
  },
  {
   "cell_type": "markdown",
   "metadata": {},
   "source": [
    "### BERT"
   ]
  },
  {
   "cell_type": "markdown",
   "metadata": {},
   "source": [
    "#### BERT (distilbert-base-uncased)\n",
    "We will try to use BERT  for semantic analysis. In this approach, we will keep all layers of BERT unchanged (freeze them) to preserve their pre-trained state. Then, we will use the output from BERT's last hidden layer as input. This output contains rich, context-aware representations of the input text, benefiting from BERT's deep understanding of language context and nuances. Finally, we will pass this output through a linear neural network layer (nn.Linear) for the classification task. This method is advantageous because it leverages BERT's advanced language processing capabilities for feature extraction while allowing for customization in the final classification stage, tailored to the specific requirements of the semantic analysis task"
   ]
  },
  {
   "cell_type": "code",
   "execution_count": 124,
   "metadata": {},
   "outputs": [],
   "source": [
    "import torch\n",
    "from torch import nn\n",
    "from transformers import DistilBertTokenizer, DistilBertModel\n",
    "from torch.utils.data import Dataset, DataLoader\n",
    "import pandas as pd\n",
    "from sklearn.metrics import accuracy_score, precision_recall_fscore_support\n",
    "from sklearn.model_selection import train_test_split"
   ]
  },
  {
   "cell_type": "code",
   "execution_count": null,
   "metadata": {},
   "outputs": [],
   "source": [
    "# Load tokenizer and model\n",
    "tokenizer = DistilBertTokenizer.from_pretrained('distilbert-base-uncased')\n",
    "distilbert = DistilBertModel.from_pretrained('distilbert-base-uncased')"
   ]
  },
  {
   "cell_type": "code",
   "execution_count": 126,
   "metadata": {},
   "outputs": [],
   "source": [
    "# Freeze DistilBERT weights\n",
    "for param in distilbert.parameters():\n",
    "    param.requires_grad = False"
   ]
  },
  {
   "cell_type": "code",
   "execution_count": 127,
   "metadata": {},
   "outputs": [],
   "source": [
    "# Custom classifier layer\n",
    "class SentimentClassifier(nn.Module):\n",
    "    def __init__(self, distilbert, num_labels):\n",
    "        super().__init__()\n",
    "        self.distilbert = distilbert\n",
    "        self.classifier = nn.Linear(self.distilbert.config.dim, num_labels)\n",
    "\n",
    "    def forward(self, input_ids, attention_mask):\n",
    "        with torch.no_grad():\n",
    "            outputs = self.distilbert(input_ids=input_ids, attention_mask=attention_mask)\n",
    "        hidden_state = outputs.last_hidden_state\n",
    "        pooled_output = hidden_state[:, 0]\n",
    "        return self.classifier(pooled_output)"
   ]
  },
  {
   "cell_type": "code",
   "execution_count": 128,
   "metadata": {},
   "outputs": [],
   "source": [
    "# Define a Dataset\n",
    "class SentimentDataset(Dataset):\n",
    "    def __init__(self, texts, labels, tokenizer, max_length=512):\n",
    "        self.texts = texts\n",
    "        self.labels = labels\n",
    "        self.tokenizer = tokenizer\n",
    "        self.max_length = max_length\n",
    "\n",
    "    def __len__(self):\n",
    "        return len(self.texts)\n",
    "\n",
    "    def __getitem__(self, idx):\n",
    "        text = self.texts[idx]\n",
    "        labels = self.labels[idx]\n",
    "        encoding = self.tokenizer(text, add_special_tokens=True, max_length=self.max_length, padding='max_length', truncation=True, return_tensors='pt')\n",
    "        return {\n",
    "            'input_ids': encoding['input_ids'].flatten(),\n",
    "            'attention_mask': encoding['attention_mask'].flatten(),\n",
    "            'labels': torch.tensor(labels, dtype=torch.long)\n",
    "        }"
   ]
  },
  {
   "cell_type": "code",
   "execution_count": 129,
   "metadata": {},
   "outputs": [],
   "source": [
    "# Create an instance of the model\n",
    "num_labels = 3\n",
    "model = SentimentClassifier(distilbert, num_labels)"
   ]
  },
  {
   "cell_type": "code",
   "execution_count": 130,
   "metadata": {},
   "outputs": [],
   "source": [
    "train_texts = df_train['text'].tolist()\n",
    "train_labels = df_train['sentiment'].tolist()"
   ]
  },
  {
   "cell_type": "code",
   "execution_count": 131,
   "metadata": {},
   "outputs": [],
   "source": [
    "dataset = SentimentDataset(train_texts, train_labels, tokenizer)\n",
    "dataloader = DataLoader(dataset, batch_size=16, shuffle=True)"
   ]
  },
  {
   "cell_type": "code",
   "execution_count": 132,
   "metadata": {},
   "outputs": [
    {
     "data": {
      "text/plain": [
       "SentimentClassifier(\n",
       "  (distilbert): DistilBertModel(\n",
       "    (embeddings): Embeddings(\n",
       "      (word_embeddings): Embedding(30522, 768, padding_idx=0)\n",
       "      (position_embeddings): Embedding(512, 768)\n",
       "      (LayerNorm): LayerNorm((768,), eps=1e-12, elementwise_affine=True)\n",
       "      (dropout): Dropout(p=0.1, inplace=False)\n",
       "    )\n",
       "    (transformer): Transformer(\n",
       "      (layer): ModuleList(\n",
       "        (0-5): 6 x TransformerBlock(\n",
       "          (attention): MultiHeadSelfAttention(\n",
       "            (dropout): Dropout(p=0.1, inplace=False)\n",
       "            (q_lin): Linear(in_features=768, out_features=768, bias=True)\n",
       "            (k_lin): Linear(in_features=768, out_features=768, bias=True)\n",
       "            (v_lin): Linear(in_features=768, out_features=768, bias=True)\n",
       "            (out_lin): Linear(in_features=768, out_features=768, bias=True)\n",
       "          )\n",
       "          (sa_layer_norm): LayerNorm((768,), eps=1e-12, elementwise_affine=True)\n",
       "          (ffn): FFN(\n",
       "            (dropout): Dropout(p=0.1, inplace=False)\n",
       "            (lin1): Linear(in_features=768, out_features=3072, bias=True)\n",
       "            (lin2): Linear(in_features=3072, out_features=768, bias=True)\n",
       "            (activation): GELUActivation()\n",
       "          )\n",
       "          (output_layer_norm): LayerNorm((768,), eps=1e-12, elementwise_affine=True)\n",
       "        )\n",
       "      )\n",
       "    )\n",
       "  )\n",
       "  (classifier): Linear(in_features=768, out_features=3, bias=True)\n",
       ")"
      ]
     },
     "execution_count": 132,
     "metadata": {},
     "output_type": "execute_result"
    }
   ],
   "source": [
    "# Move model to device\n",
    "model.to(device)"
   ]
  },
  {
   "cell_type": "code",
   "execution_count": 133,
   "metadata": {},
   "outputs": [],
   "source": [
    "optimizer = torch.optim.Adam(model.parameters(), lr=2e-5)"
   ]
  },
  {
   "cell_type": "code",
   "execution_count": null,
   "metadata": {},
   "outputs": [],
   "source": [
    "for epoch in range(3):  # Example: 3 epochs\n",
    "    index = 1\n",
    "    model.train()\n",
    "    for batch in dataloader:\n",
    "        print(f'{epoch}-{index}')\n",
    "        index = index+1\n",
    "        input_ids = batch['input_ids'].to(device)\n",
    "        attention_mask = batch['attention_mask'].to(device)\n",
    "        labels = batch['labels'].to(device)\n",
    "\n",
    "        optimizer.zero_grad()\n",
    "        outputs = model(input_ids, attention_mask)\n",
    "        loss = nn.CrossEntropyLoss()(outputs, labels)\n",
    "        loss.backward()\n",
    "        optimizer.step()\n",
    "\n",
    "print(\"Training complete\")"
   ]
  },
  {
   "cell_type": "code",
   "execution_count": 135,
   "metadata": {},
   "outputs": [
    {
     "data": {
      "text/plain": [
       "SentimentClassifier(\n",
       "  (distilbert): DistilBertModel(\n",
       "    (embeddings): Embeddings(\n",
       "      (word_embeddings): Embedding(30522, 768, padding_idx=0)\n",
       "      (position_embeddings): Embedding(512, 768)\n",
       "      (LayerNorm): LayerNorm((768,), eps=1e-12, elementwise_affine=True)\n",
       "      (dropout): Dropout(p=0.1, inplace=False)\n",
       "    )\n",
       "    (transformer): Transformer(\n",
       "      (layer): ModuleList(\n",
       "        (0-5): 6 x TransformerBlock(\n",
       "          (attention): MultiHeadSelfAttention(\n",
       "            (dropout): Dropout(p=0.1, inplace=False)\n",
       "            (q_lin): Linear(in_features=768, out_features=768, bias=True)\n",
       "            (k_lin): Linear(in_features=768, out_features=768, bias=True)\n",
       "            (v_lin): Linear(in_features=768, out_features=768, bias=True)\n",
       "            (out_lin): Linear(in_features=768, out_features=768, bias=True)\n",
       "          )\n",
       "          (sa_layer_norm): LayerNorm((768,), eps=1e-12, elementwise_affine=True)\n",
       "          (ffn): FFN(\n",
       "            (dropout): Dropout(p=0.1, inplace=False)\n",
       "            (lin1): Linear(in_features=768, out_features=3072, bias=True)\n",
       "            (lin2): Linear(in_features=3072, out_features=768, bias=True)\n",
       "            (activation): GELUActivation()\n",
       "          )\n",
       "          (output_layer_norm): LayerNorm((768,), eps=1e-12, elementwise_affine=True)\n",
       "        )\n",
       "      )\n",
       "    )\n",
       "  )\n",
       "  (classifier): Linear(in_features=768, out_features=3, bias=True)\n",
       ")"
      ]
     },
     "execution_count": 135,
     "metadata": {},
     "output_type": "execute_result"
    }
   ],
   "source": [
    "# Set model to evaluation mode\n",
    "model.eval()"
   ]
  },
  {
   "cell_type": "code",
   "execution_count": 136,
   "metadata": {},
   "outputs": [],
   "source": [
    "# Extract texts and labels from df_val\n",
    "val_texts = df_val['text'].tolist()\n",
    "val_labels = df_val['sentiment'].tolist()\n",
    "\n",
    "# Create a Dataset instance for df_val\n",
    "val_dataset = SentimentDataset(val_texts, val_labels, tokenizer)\n",
    "\n",
    "# Create the DataLoader for df_val\n",
    "df_val_dataloader = DataLoader(val_dataset, batch_size=16, shuffle=False)"
   ]
  },
  {
   "cell_type": "code",
   "execution_count": 137,
   "metadata": {},
   "outputs": [],
   "source": [
    "# Initialize lists to store predictions and actual labels\n",
    "predictions = []\n",
    "actuals = []"
   ]
  },
  {
   "cell_type": "code",
   "execution_count": 138,
   "metadata": {},
   "outputs": [],
   "source": [
    "# Disable gradient calculations\n",
    "with torch.no_grad():\n",
    "    for batch in df_val_dataloader: \n",
    "        input_ids = batch['input_ids'].to(device)\n",
    "        attention_mask = batch['attention_mask'].to(device)\n",
    "        labels = batch['labels'].to(device)\n",
    "\n",
    "        outputs = model(input_ids, attention_mask)\n",
    "        # Convert outputs to predictions\n",
    "        pred = torch.argmax(outputs, dim=1)\n",
    "        \n",
    "        predictions.extend(pred.tolist())\n",
    "        actuals.extend(labels.tolist())"
   ]
  },
  {
   "cell_type": "code",
   "execution_count": 139,
   "metadata": {},
   "outputs": [],
   "source": [
    "accuracy = accuracy_score(actuals, predictions)"
   ]
  },
  {
   "cell_type": "code",
   "execution_count": 140,
   "metadata": {},
   "outputs": [],
   "source": [
    "# Calculate metrics\n",
    "precision, recall, f1, _ = precision_recall_fscore_support(actuals, predictions, average='weighted')"
   ]
  },
  {
   "cell_type": "code",
   "execution_count": 141,
   "metadata": {},
   "outputs": [
    {
     "name": "stdout",
     "output_type": "stream",
     "text": [
      "Accuracy: 0.5779419005416051\n",
      "Precision: 0.5737133630280142\n",
      "Recall: 0.5779419005416051\n",
      "F1-Score: 0.5725777801162211\n"
     ]
    }
   ],
   "source": [
    "# Print results\n",
    "print(f\"Accuracy: {accuracy}\")\n",
    "print(f\"Precision: {precision}\")\n",
    "print(f\"Recall: {recall}\")\n",
    "print(f\"F1-Score: {f1}\")"
   ]
  },
  {
   "cell_type": "markdown",
   "metadata": {},
   "source": [
    "<font color='red'>The result was unexpectedly disappointing. We had anticipated better performance due to the use of pre-trained BERT, but unfortunately, we encountered a significantly low accuracy percentage</font>"
   ]
  },
  {
   "cell_type": "markdown",
   "metadata": {},
   "source": [
    "#### BERT (roberta-base)\n",
    "\n",
    "RoBERTa-base\" is an advanced version of the BERT model for natural language processing. It's designed to understand and analyze human language more accurately. RoBERTa has been trained on a larger dataset and for a longer time than the original BERT, leading to improved performance in understanding text.\n",
    "\n",
    "We plan to fine-tune it to see if this improves our understanding of semantic analysis."
   ]
  },
  {
   "cell_type": "code",
   "execution_count": 142,
   "metadata": {},
   "outputs": [],
   "source": [
    "import pandas as pd\n",
    "from sklearn.model_selection import train_test_split\n",
    "from transformers import RobertaTokenizer,RobertaForSequenceClassification\n",
    "import torch\n",
    "from torch.utils.data import DataLoader, TensorDataset\n",
    "from transformers import AdamW\n",
    "from tqdm import tqdm "
   ]
  },
  {
   "cell_type": "code",
   "execution_count": 143,
   "metadata": {},
   "outputs": [],
   "source": [
    "# Initialize the RoBERTA tokenizer\n",
    "tokenizer = RobertaTokenizer.from_pretrained('roberta-base')"
   ]
  },
  {
   "cell_type": "code",
   "execution_count": 144,
   "metadata": {},
   "outputs": [],
   "source": [
    "# Tokenize the dataset\n",
    "def tokenize_function(texts):\n",
    "    return tokenizer(texts, padding='max_length', truncation=True, max_length=128)"
   ]
  },
  {
   "cell_type": "code",
   "execution_count": 145,
   "metadata": {},
   "outputs": [],
   "source": [
    "# Tokenize the dataset\n",
    "tokenized_data = tokenize_function(df['text'].tolist())"
   ]
  },
  {
   "cell_type": "code",
   "execution_count": 146,
   "metadata": {},
   "outputs": [],
   "source": [
    "# Extract input_ids and attention_mask from tokenized data\n",
    "input_ids = tokenized_data['input_ids']\n",
    "attention_mask = tokenized_data['attention_mask']"
   ]
  },
  {
   "cell_type": "code",
   "execution_count": 147,
   "metadata": {},
   "outputs": [],
   "source": [
    "# Prepare the labels (sentiments)\n",
    "labels = df['sentiment'].tolist()"
   ]
  },
  {
   "cell_type": "code",
   "execution_count": 148,
   "metadata": {},
   "outputs": [],
   "source": [
    "# Split the input_ids, attention_mask, and labels\n",
    "train_inputs, val_inputs, train_labels, val_labels = train_test_split(input_ids, labels, test_size=0.2, random_state=42)\n",
    "train_masks, val_masks, _, _ = train_test_split(attention_mask, labels, test_size=0.2, random_state=42)"
   ]
  },
  {
   "cell_type": "code",
   "execution_count": 149,
   "metadata": {},
   "outputs": [
    {
     "name": "stderr",
     "output_type": "stream",
     "text": [
      "Some weights of the model checkpoint at roberta-base were not used when initializing RobertaForSequenceClassification: ['lm_head.decoder.weight', 'roberta.pooler.dense.weight', 'lm_head.layer_norm.bias', 'lm_head.dense.bias', 'roberta.pooler.dense.bias', 'lm_head.dense.weight', 'lm_head.layer_norm.weight', 'lm_head.bias']\n",
      "- This IS expected if you are initializing RobertaForSequenceClassification from the checkpoint of a model trained on another task or with another architecture (e.g. initializing a BertForSequenceClassification model from a BertForPreTraining model).\n",
      "- This IS NOT expected if you are initializing RobertaForSequenceClassification from the checkpoint of a model that you expect to be exactly identical (initializing a BertForSequenceClassification model from a BertForSequenceClassification model).\n",
      "Some weights of RobertaForSequenceClassification were not initialized from the model checkpoint at roberta-base and are newly initialized: ['classifier.dense.bias', 'classifier.out_proj.weight', 'classifier.dense.weight', 'classifier.out_proj.bias']\n",
      "You should probably TRAIN this model on a down-stream task to be able to use it for predictions and inference.\n"
     ]
    }
   ],
   "source": [
    "# Load a pre-trained RoBERTA model for sequence classification\n",
    "model = RobertaForSequenceClassification.from_pretrained('roberta-base', num_labels=3)  # 3 for three-class classification"
   ]
  },
  {
   "cell_type": "code",
   "execution_count": 150,
   "metadata": {},
   "outputs": [],
   "source": [
    "# Convert the data to PyTorch tensors\n",
    "train_inputs = torch.tensor(train_inputs)\n",
    "validation_inputs = torch.tensor(val_inputs)\n",
    "train_labels = torch.tensor(train_labels)\n",
    "validation_labels = torch.tensor(val_labels)\n",
    "train_masks = torch.tensor(train_masks)\n",
    "validation_masks = torch.tensor(val_masks)"
   ]
  },
  {
   "cell_type": "code",
   "execution_count": 151,
   "metadata": {},
   "outputs": [],
   "source": [
    "# Create TensorDatasets\n",
    "train_data = TensorDataset(train_inputs, train_masks, train_labels)\n",
    "validation_data = TensorDataset(validation_inputs, validation_masks, validation_labels)"
   ]
  },
  {
   "cell_type": "code",
   "execution_count": 152,
   "metadata": {},
   "outputs": [],
   "source": [
    "# Create DataLoaders\n",
    "batch_size = 16 \n",
    "\n",
    "train_dataloader = DataLoader(train_data, shuffle=True, batch_size=batch_size)\n",
    "validation_dataloader = DataLoader(validation_data, batch_size=batch_size)"
   ]
  },
  {
   "cell_type": "code",
   "execution_count": 153,
   "metadata": {},
   "outputs": [
    {
     "name": "stderr",
     "output_type": "stream",
     "text": [
      "c:\\API Projects\\NLP\\.venv\\lib\\site-packages\\transformers\\optimization.py:306: FutureWarning: This implementation of AdamW is deprecated and will be removed in a future version. Use the PyTorch implementation torch.optim.AdamW instead, or set `no_deprecation_warning=True` to disable this warning\n",
      "  warnings.warn(\n"
     ]
    }
   ],
   "source": [
    "# Use AdamW optimizer\n",
    "optimizer = AdamW(model.parameters(), lr=2e-5)\n",
    "\n",
    "# Training loop\n",
    "epochs = 10 "
   ]
  },
  {
   "cell_type": "code",
   "execution_count": 154,
   "metadata": {},
   "outputs": [
    {
     "data": {
      "text/plain": [
       "RobertaForSequenceClassification(\n",
       "  (roberta): RobertaModel(\n",
       "    (embeddings): RobertaEmbeddings(\n",
       "      (word_embeddings): Embedding(50265, 768, padding_idx=1)\n",
       "      (position_embeddings): Embedding(514, 768, padding_idx=1)\n",
       "      (token_type_embeddings): Embedding(1, 768)\n",
       "      (LayerNorm): LayerNorm((768,), eps=1e-05, elementwise_affine=True)\n",
       "      (dropout): Dropout(p=0.1, inplace=False)\n",
       "    )\n",
       "    (encoder): RobertaEncoder(\n",
       "      (layer): ModuleList(\n",
       "        (0-11): 12 x RobertaLayer(\n",
       "          (attention): RobertaAttention(\n",
       "            (self): RobertaSelfAttention(\n",
       "              (query): Linear(in_features=768, out_features=768, bias=True)\n",
       "              (key): Linear(in_features=768, out_features=768, bias=True)\n",
       "              (value): Linear(in_features=768, out_features=768, bias=True)\n",
       "              (dropout): Dropout(p=0.1, inplace=False)\n",
       "            )\n",
       "            (output): RobertaSelfOutput(\n",
       "              (dense): Linear(in_features=768, out_features=768, bias=True)\n",
       "              (LayerNorm): LayerNorm((768,), eps=1e-05, elementwise_affine=True)\n",
       "              (dropout): Dropout(p=0.1, inplace=False)\n",
       "            )\n",
       "          )\n",
       "          (intermediate): RobertaIntermediate(\n",
       "            (dense): Linear(in_features=768, out_features=3072, bias=True)\n",
       "            (intermediate_act_fn): GELUActivation()\n",
       "          )\n",
       "          (output): RobertaOutput(\n",
       "            (dense): Linear(in_features=3072, out_features=768, bias=True)\n",
       "            (LayerNorm): LayerNorm((768,), eps=1e-05, elementwise_affine=True)\n",
       "            (dropout): Dropout(p=0.1, inplace=False)\n",
       "          )\n",
       "        )\n",
       "      )\n",
       "    )\n",
       "  )\n",
       "  (classifier): RobertaClassificationHead(\n",
       "    (dense): Linear(in_features=768, out_features=768, bias=True)\n",
       "    (dropout): Dropout(p=0.1, inplace=False)\n",
       "    (out_proj): Linear(in_features=768, out_features=3, bias=True)\n",
       "  )\n",
       ")"
      ]
     },
     "execution_count": 154,
     "metadata": {},
     "output_type": "execute_result"
    }
   ],
   "source": [
    "model.to(device)"
   ]
  },
  {
   "cell_type": "code",
   "execution_count": 155,
   "metadata": {},
   "outputs": [],
   "source": [
    "# Lists to keep track of metrics\n",
    "training_loss_history = []\n",
    "training_accuracy_history = []\n",
    "validation_loss_history = []\n",
    "validation_accuracy_history = []"
   ]
  },
  {
   "cell_type": "markdown",
   "metadata": {},
   "source": [
    "The training data is divided into batches. For each batch, the data is moved to the specified device (like a CPU or GPU), which is used for computation. The batch contains input IDs, input masks, and labels. Input IDs and masks are used by the model to understand the data, and labels are the correct answers for the training data."
   ]
  },
  {
   "cell_type": "code",
   "execution_count": 156,
   "metadata": {},
   "outputs": [
    {
     "name": "stdout",
     "output_type": "stream",
     "text": [
      "Epoch 1/10 - Loss: 0.7326601408113875, Accuracy: 0.6916808233005884\n",
      "Epoch 2/10 - Loss: 0.47821568567988065, Accuracy: 0.8147819878376049\n",
      "Epoch 3/10 - Loss: 0.29309027083071376, Accuracy: 0.8912031907821848\n",
      "Epoch 4/10 - Loss: 0.1905202293189337, Accuracy: 0.9303001206391412\n",
      "Epoch 5/10 - Loss: 0.14054180304939826, Accuracy: 0.9498485855676194\n",
      "Epoch 6/10 - Loss: 0.11143133463709409, Accuracy: 0.9607061082797843\n",
      "Epoch 7/10 - Loss: 0.0903129002776805, Accuracy: 0.9675505330280424\n",
      "Epoch 8/10 - Loss: 0.07913077954995101, Accuracy: 0.9716374916906714\n",
      "Epoch 9/10 - Loss: 0.06922834930298542, Accuracy: 0.974911982667356\n",
      "Epoch 10/10 - Loss: 0.06393959723758615, Accuracy: 0.9770539429303001\n"
     ]
    }
   ],
   "source": [
    "# Initialize history lists\n",
    "training_loss_history = []\n",
    "training_accuracy_history = []\n",
    "\n",
    "# Start training loop\n",
    "for epoch in range(epochs):\n",
    "    model.train()\n",
    "    total_loss = 0\n",
    "    train_correct = 0\n",
    "    total_train_examples = 0\n",
    "\n",
    "    for batch_idx, batch in enumerate(train_dataloader):\n",
    "        batch = tuple(t.to(device) for t in batch)\n",
    "        b_input_ids, b_input_mask, b_labels = batch\n",
    "\n",
    "        model.zero_grad()\n",
    "\n",
    "        outputs = model(b_input_ids, token_type_ids=None, attention_mask=b_input_mask, labels=b_labels)\n",
    "        loss = outputs.loss\n",
    "        logits = outputs.logits\n",
    "\n",
    "        total_loss += loss.item()\n",
    "\n",
    "        loss.backward()\n",
    "        optimizer.step()\n",
    "\n",
    "        probabilities = torch.nn.functional.softmax(logits, dim=-1)\n",
    "        predictions = torch.argmax(probabilities, dim=-1)\n",
    "\n",
    "        train_correct += (predictions == b_labels).sum().item()\n",
    "        total_train_examples += b_labels.size(0)\n",
    "\n",
    "    avg_train_loss = total_loss / len(train_dataloader)\n",
    "    train_accuracy = train_correct / total_train_examples\n",
    "\n",
    "    # Save training metrics\n",
    "    training_loss_history.append(avg_train_loss)\n",
    "    training_accuracy_history.append(train_accuracy)\n",
    "\n",
    "    print(f\"Epoch {epoch + 1}/{epochs} - Loss: {avg_train_loss}, Accuracy: {train_accuracy}\")\n"
   ]
  },
  {
   "cell_type": "markdown",
   "metadata": {},
   "source": [
    "Across the 10 epochs, there is a clear improvement in the model's performance. This is indicated by the decreasing loss and increasing accuracy with each epoch."
   ]
  },
  {
   "cell_type": "code",
   "execution_count": 157,
   "metadata": {},
   "outputs": [
    {
     "name": "stdout",
     "output_type": "stream",
     "text": [
      "Epoch 10/10\n",
      "Average training loss: 0.0639\n",
      "Training accuracy: 0.9771\n"
     ]
    }
   ],
   "source": [
    "# Print the metrics for the epoch\n",
    "print(f\"Epoch {epoch + 1}/{epochs}\")\n",
    "print(f\"Average training loss: {avg_train_loss:.4f}\")\n",
    "print(f\"Training accuracy: {train_accuracy:.4f}\")"
   ]
  },
  {
   "cell_type": "code",
   "execution_count": 158,
   "metadata": {},
   "outputs": [
    {
     "data": {
      "text/plain": [
       "['models\\\\BERT_model.joblib']"
      ]
     },
     "execution_count": 158,
     "metadata": {},
     "output_type": "execute_result"
    }
   ],
   "source": [
    "dump(model, 'models\\\\BERT_model.joblib')"
   ]
  },
  {
   "cell_type": "code",
   "execution_count": 159,
   "metadata": {},
   "outputs": [],
   "source": [
    "from sklearn.metrics import confusion_matrix\n",
    "import seaborn as sns\n",
    "import matplotlib.pyplot as plt\n",
    "\n",
    "model.eval()\n",
    "eval_loss = 0\n",
    "eval_accuracy = 0\n",
    "total_eval_examples = 0\n",
    "all_predictions = []\n",
    "all_labels = []\n",
    "\n",
    "for batch in validation_dataloader:\n",
    "    batch = tuple(t.to(device) for t in batch)\n",
    "    b_input_ids, b_input_mask, b_labels = batch\n",
    "\n",
    "    with torch.no_grad():\n",
    "        outputs = model(b_input_ids, token_type_ids=None, attention_mask=b_input_mask, labels=b_labels)\n",
    "        loss = outputs.loss\n",
    "        logits = outputs.logits\n",
    "\n",
    "    eval_loss += loss.item()\n",
    "    probabilities = torch.nn.functional.softmax(logits, dim=-1)\n",
    "    predictions = torch.argmax(probabilities, dim=-1)\n",
    "\n",
    "    all_predictions.extend(predictions.cpu().numpy())\n",
    "    all_labels.extend(b_labels.cpu().numpy())\n",
    "\n",
    "    eval_accuracy += (predictions == b_labels).sum().item()\n",
    "    total_eval_examples += b_labels.size(0)\n",
    "\n",
    "avg_val_loss = eval_loss / len(validation_dataloader)\n",
    "avg_val_accuracy = eval_accuracy / total_eval_examples\n",
    "\n",
    "# Append to history for plotting if needed\n",
    "validation_loss_history.append(avg_val_loss)\n",
    "validation_accuracy_history.append(avg_val_accuracy)\n"
   ]
  },
  {
   "cell_type": "code",
   "execution_count": 160,
   "metadata": {},
   "outputs": [
    {
     "name": "stdout",
     "output_type": "stream",
     "text": [
      "Validation Loss: 0.3035773499014945, Validation Accuracy: 0.9329394387001477\n"
     ]
    }
   ],
   "source": [
    "# Print the metrics for the epoch\n",
    "print(f\"Validation Loss: {avg_val_loss}, Validation Accuracy: {avg_val_accuracy}\")"
   ]
  },
  {
   "cell_type": "code",
   "execution_count": 161,
   "metadata": {},
   "outputs": [
    {
     "data": {
      "image/png": "[encoded data removed]",
      "text/plain": [
       "<Figure size 1000x700 with 2 Axes>"
      ]
     },
     "metadata": {},
     "output_type": "display_data"
    }
   ],
   "source": [
    "# Calculate the confusion matrix\n",
    "conf_matrix = confusion_matrix(all_labels, all_predictions)\n",
    "\n",
    "# Plot the confusion matrix as a heatmap\n",
    "plt.figure(figsize=(10, 7))\n",
    "sns.heatmap(conf_matrix, annot=True, fmt='g', cmap='Blues')\n",
    "plt.xlabel('Predicted labels')\n",
    "plt.ylabel('True labels')\n",
    "plt.title('Confusion Matrix')\n",
    "plt.show()"
   ]
  },
  {
   "cell_type": "markdown",
   "metadata": {},
   "source": [
    "Summary:\n",
    "\n",
    "- Training Performance:\n",
    "    - By the end of the 10th epoch, the training phase showed significant improvement.\n",
    "    - The average training loss, a measure of how far the model's predictions were from the actual results, was quite low at 0.0639. This indicates that the model was making accurate predictions most of the time.\n",
    "    - The training accuracy, which shows how often the model was correct, was very high at 97.71%. This means the model was able to correctly predict the outcome for most of the training data.\n",
    "\n",
    "- Validation Performance:\n",
    "    - The validation loss was 0.3036, which is higher than the training loss. This suggests that the model didn't perform as well on the validation set (new, unseen data) as it did on the training set.\n",
    "    - The validation accuracy was 93.29%. While this is slightly lower than the training accuracy, it still indicates a high level of accuracy and suggests that the model generalizes well to new data."
   ]
  }
 ],
 "metadata": {
  "accelerator": "GPU",
  "colab": {
   "collapsed_sections": [
    "u05DcjuW4L4e",
    "t5_WXgz84S_a"
   ],
   "provenance": [],
   "toc_visible": true
  },
  "kernelspec": {
   "display_name": "Python 3 (ipykernel)",
   "language": "python",
   "name": "python3"
  },
  "language_info": {
   "codemirror_mode": {
    "name": "ipython",
    "version": 3
   },
   "file_extension": ".py",
   "mimetype": "text/x-python",
   "name": "python",
   "nbconvert_exporter": "python",
   "pygments_lexer": "ipython3",
   "version": "3.11.5"
  }
 },
 "nbformat": 4,
 "nbformat_minor": 1
}
